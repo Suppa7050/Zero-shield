{
  "cells": [
    {
      "cell_type": "code",
      "execution_count": null,
      "metadata": {
        "id": "ha20DXZfK3B_"
      },
      "outputs": [],
      "source": [
        "import numpy as np\n",
        "import pandas as pd\n",
        "pd.set_option('display.max_columns',None)\n",
        "from sklearn.model_selection import train_test_split\n",
        "from sklearn.preprocessing import LabelEncoder"
      ]
    },
    {
      "cell_type": "code",
      "source": [
        "from google.colab import drive\n",
        "drive.mount('/content/drive')"
      ],
      "metadata": {
        "id": "bdYWBDORv6OT",
        "colab": {
          "base_uri": "https://localhost:8080/"
        },
        "outputId": "3217063d-aec5-4b90-9d09-ea36b015527d"
      },
      "execution_count": null,
      "outputs": [
        {
          "output_type": "stream",
          "name": "stdout",
          "text": [
            "Mounted at /content/drive\n"
          ]
        }
      ]
    },
    {
      "cell_type": "code",
      "execution_count": null,
      "metadata": {
        "id": "kjmiurkcLOaF"
      },
      "outputs": [],
      "source": [
        "df1 = pd.read_csv('/content/drive/MyDrive/cicids2017/Friday-WorkingHours-Afternoon-DDos.pcap_ISCX.csv')\n",
        "df2 = pd.read_csv('/content/drive/MyDrive/cicids2017/Friday-WorkingHours-Afternoon-PortScan.pcap_ISCX.csv')\n",
        "df3 = pd.read_csv('/content/drive/MyDrive/cicids2017/Friday-WorkingHours-Morning.pcap_ISCX.csv')\n",
        "df4 = pd.read_csv('/content/drive/MyDrive/cicids2017/Monday-WorkingHours.pcap_ISCX.csv')\n",
        "df5 = pd.read_csv('/content/drive/MyDrive/cicids2017/Thursday-WorkingHours-Afternoon-Infilteration.pcap_ISCX.csv')\n",
        "df6 = pd.read_csv('/content/drive/MyDrive/cicids2017/Thursday-WorkingHours-Morning-WebAttacks.pcap_ISCX.csv')\n",
        "df7 = pd.read_csv('/content/drive/MyDrive/cicids2017/Tuesday-WorkingHours.pcap_ISCX.csv')\n",
        "df8 = pd.read_csv('/content/drive/MyDrive/cicids2017/Wednesday-workingHours.pcap_ISCX.csv')"
      ]
    },
    {
      "cell_type": "code",
      "execution_count": null,
      "metadata": {
        "colab": {
          "base_uri": "https://localhost:8080/"
        },
        "id": "S4yASk-OML0L",
        "outputId": "d9d23169-3838-472f-e20c-4a6faa964202"
      },
      "outputs": [
        {
          "output_type": "execute_result",
          "data": {
            "text/plain": [
              "(2830743, 79)"
            ]
          },
          "metadata": {},
          "execution_count": 12
        }
      ],
      "source": [
        "df = pd.concat([df1,df2])\n",
        "# del df1,df2\n",
        "df = pd.concat([df,df3])\n",
        "# del df3\n",
        "df = pd.concat([df,df4])\n",
        "# del df4\n",
        "df = pd.concat([df,df5])\n",
        "# del df5/\n",
        "df = pd.concat([df,df6])\n",
        "# del df6\n",
        "df = pd.concat([df,df7])\n",
        "# del df7\n",
        "df = pd.concat([df,df8])\n",
        "# del df8\n",
        "df.shape"
      ]
    },
    {
      "cell_type": "code",
      "execution_count": null,
      "metadata": {
        "colab": {
          "base_uri": "https://localhost:8080/"
        },
        "id": "fnyMU7tSMSoW",
        "outputId": "76771e0e-153f-4744-f070-e2e18160f2b0"
      },
      "outputs": [
        {
          "output_type": "execute_result",
          "data": {
            "text/plain": [
              "Index([' Destination Port', ' Flow Duration', ' Total Fwd Packets',\n",
              "       ' Total Backward Packets', 'Total Length of Fwd Packets',\n",
              "       ' Total Length of Bwd Packets', ' Fwd Packet Length Max',\n",
              "       ' Fwd Packet Length Min', ' Fwd Packet Length Mean',\n",
              "       ' Fwd Packet Length Std', 'Bwd Packet Length Max',\n",
              "       ' Bwd Packet Length Min', ' Bwd Packet Length Mean',\n",
              "       ' Bwd Packet Length Std', 'Flow Bytes/s', ' Flow Packets/s',\n",
              "       ' Flow IAT Mean', ' Flow IAT Std', ' Flow IAT Max', ' Flow IAT Min',\n",
              "       'Fwd IAT Total', ' Fwd IAT Mean', ' Fwd IAT Std', ' Fwd IAT Max',\n",
              "       ' Fwd IAT Min', 'Bwd IAT Total', ' Bwd IAT Mean', ' Bwd IAT Std',\n",
              "       ' Bwd IAT Max', ' Bwd IAT Min', 'Fwd PSH Flags', ' Bwd PSH Flags',\n",
              "       ' Fwd URG Flags', ' Bwd URG Flags', ' Fwd Header Length',\n",
              "       ' Bwd Header Length', 'Fwd Packets/s', ' Bwd Packets/s',\n",
              "       ' Min Packet Length', ' Max Packet Length', ' Packet Length Mean',\n",
              "       ' Packet Length Std', ' Packet Length Variance', 'FIN Flag Count',\n",
              "       ' SYN Flag Count', ' RST Flag Count', ' PSH Flag Count',\n",
              "       ' ACK Flag Count', ' URG Flag Count', ' CWE Flag Count',\n",
              "       ' ECE Flag Count', ' Down/Up Ratio', ' Average Packet Size',\n",
              "       ' Avg Fwd Segment Size', ' Avg Bwd Segment Size',\n",
              "       ' Fwd Header Length.1', 'Fwd Avg Bytes/Bulk', ' Fwd Avg Packets/Bulk',\n",
              "       ' Fwd Avg Bulk Rate', ' Bwd Avg Bytes/Bulk', ' Bwd Avg Packets/Bulk',\n",
              "       'Bwd Avg Bulk Rate', 'Subflow Fwd Packets', ' Subflow Fwd Bytes',\n",
              "       ' Subflow Bwd Packets', ' Subflow Bwd Bytes', 'Init_Win_bytes_forward',\n",
              "       ' Init_Win_bytes_backward', ' act_data_pkt_fwd',\n",
              "       ' min_seg_size_forward', 'Active Mean', ' Active Std', ' Active Max',\n",
              "       ' Active Min', 'Idle Mean', ' Idle Std', ' Idle Max', ' Idle Min',\n",
              "       ' Label'],\n",
              "      dtype='object')"
            ]
          },
          "metadata": {},
          "execution_count": 13
        }
      ],
      "source": [
        "df.columns"
      ]
    },
    {
      "cell_type": "code",
      "execution_count": null,
      "metadata": {
        "colab": {
          "base_uri": "https://localhost:8080/"
        },
        "id": "75jH77vYR6pQ",
        "outputId": "e0e24152-d571-4282-a866-6f3d51db04e4"
      },
      "outputs": [
        {
          "output_type": "execute_result",
          "data": {
            "text/plain": [
              " Destination Port        0\n",
              " ECE Flag Count          0\n",
              " Fwd Avg Packets/Bulk    0\n",
              "Fwd Avg Bytes/Bulk       0\n",
              " Fwd Header Length.1     0\n",
              "                        ..\n",
              "Bwd IAT Total            0\n",
              " Fwd IAT Min             0\n",
              " Fwd IAT Max             0\n",
              " Fwd IAT Std             0\n",
              " Label                   0\n",
              "Length: 79, dtype: int64"
            ]
          },
          "metadata": {},
          "execution_count": 14
        }
      ],
      "source": [
        "df.isnull().sum().sort_values(ascending = False)\n",
        "df.dropna(inplace=True)\n",
        "df.isnull().sum().sort_values(ascending = False)"
      ]
    },
    {
      "cell_type": "code",
      "execution_count": null,
      "metadata": {
        "colab": {
          "base_uri": "https://localhost:8080/"
        },
        "id": "rjRcaeXDSjPI",
        "outputId": "ed9945ce-d167-4041-acb2-d64ce77d8742"
      },
      "outputs": [
        {
          "output_type": "execute_result",
          "data": {
            "text/plain": [
              "['BENIGN',\n",
              " 'DDoS',\n",
              " 'PortScan',\n",
              " 'Bot',\n",
              " 'Infiltration',\n",
              " 'Web Attack � Brute Force',\n",
              " 'Web Attack � XSS',\n",
              " 'Web Attack � Sql Injection',\n",
              " 'FTP-Patator',\n",
              " 'SSH-Patator',\n",
              " 'DoS slowloris',\n",
              " 'DoS Slowhttptest',\n",
              " 'DoS Hulk',\n",
              " 'DoS GoldenEye',\n",
              " 'Heartbleed']"
            ]
          },
          "metadata": {},
          "execution_count": 15
        }
      ],
      "source": [
        "originals = list(df[' Label'].unique())\n",
        "originals"
      ]
    },
    {
      "cell_type": "code",
      "execution_count": null,
      "metadata": {
        "colab": {
          "base_uri": "https://localhost:8080/"
        },
        "id": "7YalRMjpanK1",
        "outputId": "ec89adea-4433-49ba-e27b-9eeafa844e35"
      },
      "outputs": [
        {
          "output_type": "stream",
          "name": "stdout",
          "text": [
            "BENIGN                        2272688\n",
            "DoS Hulk                       230124\n",
            "PortScan                       158930\n",
            "DDoS                           128027\n",
            "DoS GoldenEye                   10293\n",
            "FTP-Patator                      7938\n",
            "SSH-Patator                      5897\n",
            "DoS slowloris                    5796\n",
            "DoS Slowhttptest                 5499\n",
            "Bot                              1966\n",
            "Web Attack � Brute Force         1507\n",
            "Web Attack � XSS                  652\n",
            "Infiltration                       36\n",
            "Web Attack � Sql Injection         21\n",
            "Heartbleed                         11\n",
            "Name:  Label, dtype: int64\n"
          ]
        }
      ],
      "source": [
        "print(df[' Label'].value_counts())"
      ]
    },
    {
      "cell_type": "code",
      "execution_count": null,
      "metadata": {
        "id": "hwSLF6eDSj84"
      },
      "outputs": [],
      "source": [
        "def targetify(i):\n",
        "    if i == 'BENIGN':\n",
        "        return 0\n",
        "    else:\n",
        "        return 1"
      ]
    },
    {
      "cell_type": "code",
      "execution_count": null,
      "metadata": {
        "colab": {
          "base_uri": "https://localhost:8080/"
        },
        "id": "JpDnuf1SSj5f",
        "outputId": "91ca1702-6bf6-49c9-b7b0-f0bed80bb66b"
      },
      "outputs": [
        {
          "output_type": "stream",
          "name": "stdout",
          "text": [
            "0    2272688\n",
            "1     556697\n",
            "Name:  Label, dtype: int64\n"
          ]
        }
      ],
      "source": [
        "df[\" Label\"] = df[\" Label\"].apply(targetify)\n",
        "print(df[' Label'].value_counts())\n"
      ]
    },
    {
      "cell_type": "code",
      "execution_count": null,
      "metadata": {
        "colab": {
          "base_uri": "https://localhost:8080/"
        },
        "id": "M2HBm8t6Sj3L",
        "outputId": "c47440f5-72b3-4010-b365-04d793762a61"
      },
      "outputs": [
        {
          "output_type": "execute_result",
          "data": {
            "text/plain": [
              "array([0, 1])"
            ]
          },
          "metadata": {},
          "execution_count": 19
        }
      ],
      "source": [
        "df[' Label'].unique()"
      ]
    },
    {
      "cell_type": "code",
      "execution_count": null,
      "metadata": {
        "colab": {
          "base_uri": "https://localhost:8080/"
        },
        "id": "awYfe0wzSj0x",
        "outputId": "74df9765-94a6-40a8-8fdd-727ccd28c18a"
      },
      "outputs": [
        {
          "output_type": "execute_result",
          "data": {
            "text/plain": [
              "0    2272688\n",
              "1     556697\n",
              "Name:  Label, dtype: int64"
            ]
          },
          "metadata": {},
          "execution_count": 20
        }
      ],
      "source": [
        "df[' Label'].value_counts()"
      ]
    },
    {
      "cell_type": "code",
      "execution_count": null,
      "metadata": {
        "colab": {
          "base_uri": "https://localhost:8080/"
        },
        "id": "GWAtvRA-SjyT",
        "outputId": "1690f49e-2f5c-4be7-eabf-3e4936fc54f6"
      },
      "outputs": [
        {
          "output_type": "stream",
          "name": "stdout",
          "text": [
            "(2829385, 79)\n",
            "(2522009, 79)\n"
          ]
        }
      ],
      "source": [
        "print(df.shape)\n",
        "df=df.drop_duplicates(keep='first')\n",
        "print(df.shape)"
      ]
    },
    {
      "cell_type": "code",
      "execution_count": null,
      "metadata": {
        "colab": {
          "base_uri": "https://localhost:8080/"
        },
        "id": "R8QRzwtGT78X",
        "outputId": "3f276017-a26c-4d20-fd27-36c5c24e99e9"
      },
      "outputs": [
        {
          "output_type": "stream",
          "name": "stderr",
          "text": [
            "<ipython-input-22-0bb5f2ee9b42>:1: FutureWarning: In a future version of pandas all arguments of DataFrame.any and Series.any will be keyword-only.\n",
            "  df = df[~df.isin([np.nan, np.inf, -np.inf]).any(1)]\n"
          ]
        },
        {
          "output_type": "execute_result",
          "data": {
            "text/plain": [
              "(2520798, 79)"
            ]
          },
          "metadata": {},
          "execution_count": 22
        }
      ],
      "source": [
        "df = df[~df.isin([np.nan, np.inf, -np.inf]).any(1)]\n",
        "df.shape"
      ]
    },
    {
      "cell_type": "code",
      "execution_count": null,
      "metadata": {
        "colab": {
          "base_uri": "https://localhost:8080/"
        },
        "id": "asIJFbDFT742",
        "outputId": "81b7cd16-93ef-474b-9d27-be4e950f3283"
      },
      "outputs": [
        {
          "output_type": "stream",
          "name": "stdout",
          "text": [
            "[-0.15960255729076697, 0.27900814297274273, -0.0030550685202469117, -0.003175640392710036, -0.015079011552927209, -0.002127195067598197, -0.049019358048620405, -0.13112368686685683, -0.07437716814267513, -0.026204060184124068, 0.5964718882005696, -0.26513451200472454, 0.5944125702997664, 0.6117193164573792, -0.022131470710685112, -0.06859141275968125, 0.2246124905646447, 0.4109717167458292, 0.47151959479735245, 0.018012919160030016, 0.2800692956396266, 0.1929963357134681, 0.5061101230900161, 0.47080034876379584, -0.021360911597259183, 0.0060896780582666695, 0.022218330357802706, 0.19791983541908903, 0.1464880325469376, -0.03239144379960784, -0.08182439079530555, nan, -0.0025395553250187356, nan, 0.0005928737574115953, 0.0007843304337794194, -0.07531171854373958, 0.01623754288426453, -0.2769490961764388, 0.5554739541003533, 0.5209495581330975, 0.5734866484673178, 0.5367758036606631, 0.2719442718540575, -0.08182439079530555, -0.007437499559446921, 0.1443626631616928, 0.10380014801756379, -0.14415186089372078, -0.0025395553250187356, -0.007453749008937983, -0.043427898490383414, 0.5216158184252779, -0.07437716814267513, 0.5944125702997395, 0.0005928737574115953, nan, nan, nan, nan, nan, nan, -0.0030550685202469117, -0.015098943142076863, -0.003175640392710036, -0.002127152202320948, -0.002814987386765917, -0.09305410579760343, -0.0026395165824656588, 0.00121865351363734, 0.028072417724471836, -0.02254613997753356, -0.008216632707332243, 0.037264856856996924, 0.4708605227304797, 0.12893362864362917, 0.4756099264899195, 0.45843792114282633, 1.0] \n",
            "\n",
            "[2, 3, 5, 25, 32, 34, 35, 45, 32, 50, 34, 2, 3, 65, 66, 68, 69, 72] \n",
            "\n"
          ]
        }
      ],
      "source": [
        "crr=list(df.corr()[' Label'])\n",
        "print(crr,\"\\n\")\n",
        "ls=[crr.index(i) for i in crr if abs(i)<0.01]\n",
        "print(ls,\"\\n\")"
      ]
    },
    {
      "cell_type": "code",
      "execution_count": null,
      "metadata": {
        "colab": {
          "base_uri": "https://localhost:8080/"
        },
        "id": "vbFuY3MuT72x",
        "outputId": "37f4cce3-16d6-4280-e20f-df7e6f450bbf"
      },
      "outputs": [
        {
          "output_type": "execute_result",
          "data": {
            "text/plain": [
              "[' Subflow Bwd Bytes',\n",
              " ' Active Max',\n",
              " ' Fwd URG Flags',\n",
              " ' Total Fwd Packets',\n",
              " ' ECE Flag Count',\n",
              " ' Total Length of Bwd Packets',\n",
              " 'Bwd IAT Total',\n",
              " ' Fwd Header Length',\n",
              " ' Bwd Header Length',\n",
              " ' Total Backward Packets',\n",
              " 'Init_Win_bytes_forward',\n",
              " ' act_data_pkt_fwd',\n",
              " ' min_seg_size_forward',\n",
              " ' RST Flag Count']"
            ]
          },
          "metadata": {},
          "execution_count": 24
        }
      ],
      "source": [
        "colsfromindex = list(set(df.columns[ls]))\n",
        "colsfromindex"
      ]
    },
    {
      "cell_type": "code",
      "execution_count": null,
      "metadata": {
        "id": "NNdje5WwT70a"
      },
      "outputs": [],
      "source": [
        "colsfromindex.remove(' Total Fwd Packets')\n",
        "colsfromindex.remove(' Total Backward Packets')\n",
        "colsfromindex.remove(' Total Length of Bwd Packets')\n",
        "colsfromindex.remove(' RST Flag Count')\n",
        "colsfromindex.remove('Bwd IAT Total')"
      ]
    },
    {
      "cell_type": "code",
      "execution_count": null,
      "metadata": {
        "colab": {
          "base_uri": "https://localhost:8080/"
        },
        "id": "cSE_a-ETURe_",
        "outputId": "98838b0d-8561-4bed-a765-9c3621d77a07"
      },
      "outputs": [
        {
          "output_type": "execute_result",
          "data": {
            "text/plain": [
              "[' Subflow Bwd Bytes',\n",
              " ' Active Max',\n",
              " ' Fwd URG Flags',\n",
              " ' ECE Flag Count',\n",
              " ' Fwd Header Length',\n",
              " ' Bwd Header Length',\n",
              " 'Init_Win_bytes_forward',\n",
              " ' act_data_pkt_fwd',\n",
              " ' min_seg_size_forward']"
            ]
          },
          "metadata": {},
          "execution_count": 26
        }
      ],
      "source": [
        "colsfromindex"
      ]
    },
    {
      "cell_type": "code",
      "execution_count": null,
      "metadata": {
        "colab": {
          "base_uri": "https://localhost:8080/"
        },
        "id": "fIpxl6IUUYa2",
        "outputId": "1494710a-595b-45ee-883b-f67b63e063e8"
      },
      "outputs": [
        {
          "output_type": "stream",
          "name": "stdout",
          "text": [
            "(2520798, 79)\n",
            "(2520798, 70)\n"
          ]
        }
      ],
      "source": [
        "print(df.shape)\n",
        "df.drop(colsfromindex, axis=1, inplace=True)\n",
        "print(df.shape)"
      ]
    },
    {
      "cell_type": "code",
      "execution_count": null,
      "metadata": {
        "id": "PR6n9B6VUYXU"
      },
      "outputs": [],
      "source": [
        "df.head()\n",
        "traincols = list(df.columns)"
      ]
    },
    {
      "cell_type": "code",
      "execution_count": null,
      "metadata": {
        "colab": {
          "base_uri": "https://localhost:8080/"
        },
        "id": "YAc1flWbUct0",
        "outputId": "4ab64b07-3d06-480c-f316-82a7e540fd9a"
      },
      "outputs": [
        {
          "output_type": "stream",
          "name": "stdout",
          "text": [
            "(2520798, 69)\n",
            "(2520798,)\n"
          ]
        }
      ],
      "source": [
        "x=df.drop([' Label'],axis=1)\n",
        "y=df[' Label']\n",
        "print(x.shape)\n",
        "print(y.shape)"
      ]
    },
    {
      "cell_type": "code",
      "execution_count": null,
      "metadata": {
        "id": "x0rEq1vuUcqb"
      },
      "outputs": [],
      "source": [
        "x_train,x_test,y_train,y_test = train_test_split(x,y)"
      ]
    },
    {
      "cell_type": "code",
      "execution_count": null,
      "metadata": {
        "colab": {
          "base_uri": "https://localhost:8080/"
        },
        "id": "iumpMDvzUcfO",
        "outputId": "3ec9d433-82b6-4093-d164-4131e15b4c88"
      },
      "outputs": [
        {
          "output_type": "execute_result",
          "data": {
            "text/plain": [
              "(1890598, 69)"
            ]
          },
          "metadata": {},
          "execution_count": 31
        }
      ],
      "source": [
        "x_train.shape"
      ]
    },
    {
      "cell_type": "code",
      "execution_count": null,
      "metadata": {
        "colab": {
          "base_uri": "https://localhost:8080/",
          "height": 322
        },
        "id": "q5ecttZPWHr5",
        "outputId": "a9b33ccf-60f8-4fa2-b81d-af900e157b59"
      },
      "outputs": [
        {
          "output_type": "execute_result",
          "data": {
            "text/plain": [
              "         Destination Port   Flow Duration   Total Fwd Packets  \\\n",
              "24090                 443        62107588                  14   \n",
              "435189                 53             230                   2   \n",
              "71011                  53           48610                   1   \n",
              "51096               34726          136645                   3   \n",
              "620976                 80        11547678                   4   \n",
              "\n",
              "         Total Backward Packets  Total Length of Fwd Packets  \\\n",
              "24090                        14                          767   \n",
              "435189                        2                           68   \n",
              "71011                         1                           48   \n",
              "51096                         0                         1983   \n",
              "620976                        4                          480   \n",
              "\n",
              "         Total Length of Bwd Packets   Fwd Packet Length Max  \\\n",
              "24090                           5587                     385   \n",
              "435189                           380                      34   \n",
              "71011                            224                      48   \n",
              "51096                              0                    1983   \n",
              "620976                          3525                     480   \n",
              "\n",
              "         Fwd Packet Length Min   Fwd Packet Length Mean  \\\n",
              "24090                        0                54.785714   \n",
              "435189                      34                34.000000   \n",
              "71011                       48                48.000000   \n",
              "51096                        0               661.000000   \n",
              "620976                       0               120.000000   \n",
              "\n",
              "         Fwd Packet Length Std  Bwd Packet Length Max   Bwd Packet Length Min  \\\n",
              "24090               111.236531                   1460                       0   \n",
              "435189                0.000000                    190                     190   \n",
              "71011                 0.000000                    224                     224   \n",
              "51096              1144.885584                      0                       0   \n",
              "620976              240.000000                   3525                       0   \n",
              "\n",
              "         Bwd Packet Length Mean   Bwd Packet Length Std  Flow Bytes/s  \\\n",
              "24090                399.071429              603.817785  1.023063e+02   \n",
              "435189               190.000000                0.000000  1.947826e+06   \n",
              "71011                224.000000                0.000000  5.595556e+03   \n",
              "51096                  0.000000                0.000000  1.451206e+04   \n",
              "620976               881.250000             1762.500000  3.468230e+02   \n",
              "\n",
              "         Flow Packets/s   Flow IAT Mean   Flow IAT Std   Flow IAT Max  \\\n",
              "24090          0.450831    2.300281e+06   4.166243e+06       10000000   \n",
              "435189     17391.304348    7.666667e+01   9.047283e+01            178   \n",
              "71011         41.143798    4.861000e+04   0.000000e+00          48610   \n",
              "51096         21.954700    6.832250e+04   9.661836e+04         136642   \n",
              "620976         0.692780    1.649668e+06   2.851453e+06        6542676   \n",
              "\n",
              "         Flow IAT Min  Fwd IAT Total   Fwd IAT Mean   Fwd IAT Std  \\\n",
              "24090              29       62100000    4777506.769  5.021096e+06   \n",
              "435189              4              4          4.000  0.000000e+00   \n",
              "71011           48610              0          0.000  0.000000e+00   \n",
              "51096               3         136645      68322.500  9.661836e+04   \n",
              "620976             48        6544886    2181628.667  3.778001e+06   \n",
              "\n",
              "         Fwd IAT Max   Fwd IAT Min  Bwd IAT Total   Bwd IAT Mean  \\\n",
              "24090       10100000         50694       62100000    4773595.923   \n",
              "435189             4             4             48         48.000   \n",
              "71011              0             0              0          0.000   \n",
              "51096         136642             3              0          0.000   \n",
              "620976       6544088           186       11500000    3849205.000   \n",
              "\n",
              "         Bwd IAT Std   Bwd IAT Max   Bwd IAT Min  Fwd PSH Flags  \\\n",
              "24090    5061124.994      10100000            48              0   \n",
              "435189         0.000            48            48              0   \n",
              "71011          0.000             0             0              0   \n",
              "51096          0.000             0             0              0   \n",
              "620976   3420456.821       6542676           783              0   \n",
              "\n",
              "         Bwd PSH Flags   Bwd URG Flags  Fwd Packets/s   Bwd Packets/s  \\\n",
              "24090                0               0       0.225415        0.225415   \n",
              "435189               0               0    8695.652174     8695.652174   \n",
              "71011                0               0      20.571899       20.571899   \n",
              "51096                0               0      21.954700        0.000000   \n",
              "620976               0               0       0.346390        0.346390   \n",
              "\n",
              "         Min Packet Length   Max Packet Length   Packet Length Mean  \\\n",
              "24090                    0                1460           219.103448   \n",
              "435189                  34                 190            96.400000   \n",
              "71011                   48                 224           106.666667   \n",
              "51096                    0                1983           495.750000   \n",
              "620976                   0                3525           445.000000   \n",
              "\n",
              "         Packet Length Std   Packet Length Variance  FIN Flag Count  \\\n",
              "24090           454.346182             2.064305e+05               0   \n",
              "435189           85.444719             7.300800e+03               0   \n",
              "71011           101.613647             1.032533e+04               0   \n",
              "51096           991.500000             9.830722e+05               0   \n",
              "620976         1165.858053             1.359225e+06               0   \n",
              "\n",
              "         SYN Flag Count   RST Flag Count   PSH Flag Count   ACK Flag Count  \\\n",
              "24090                 0                0                1                0   \n",
              "435189                0                0                0                0   \n",
              "71011                 0                0                0                0   \n",
              "51096                 0                0                0                1   \n",
              "620976                0                0                1                0   \n",
              "\n",
              "         URG Flag Count   CWE Flag Count   Down/Up Ratio  \\\n",
              "24090                 0                0               1   \n",
              "435189                0                0               1   \n",
              "71011                 0                0               1   \n",
              "51096                 0                0               0   \n",
              "620976                0                0               1   \n",
              "\n",
              "         Average Packet Size   Avg Fwd Segment Size   Avg Bwd Segment Size  \\\n",
              "24090             226.928571              54.785714             399.071429   \n",
              "435189            120.500000              34.000000             190.000000   \n",
              "71011             160.000000              48.000000             224.000000   \n",
              "51096             661.000000             661.000000               0.000000   \n",
              "620976            500.625000             120.000000             881.250000   \n",
              "\n",
              "         Fwd Header Length.1  Fwd Avg Bytes/Bulk   Fwd Avg Packets/Bulk  \\\n",
              "24090                    292                   0                      0   \n",
              "435189                    64                   0                      0   \n",
              "71011                     20                   0                      0   \n",
              "51096                     96                   0                      0   \n",
              "620976                   136                   0                      0   \n",
              "\n",
              "         Fwd Avg Bulk Rate   Bwd Avg Bytes/Bulk   Bwd Avg Packets/Bulk  \\\n",
              "24090                    0                    0                      0   \n",
              "435189                   0                    0                      0   \n",
              "71011                    0                    0                      0   \n",
              "51096                    0                    0                      0   \n",
              "620976                   0                    0                      0   \n",
              "\n",
              "        Bwd Avg Bulk Rate  Subflow Fwd Packets   Subflow Fwd Bytes  \\\n",
              "24090                   0                   14                 767   \n",
              "435189                  0                    2                  68   \n",
              "71011                   0                    1                  48   \n",
              "51096                   0                    3                1983   \n",
              "620976                  0                    4                 480   \n",
              "\n",
              "         Subflow Bwd Packets   Init_Win_bytes_backward  Active Mean  \\\n",
              "24090                     14                       114  414457.1667   \n",
              "435189                     2                        -1       0.0000   \n",
              "71011                      1                        -1       0.0000   \n",
              "51096                      0                        -1       0.0000   \n",
              "620976                     4                       235     846.0000   \n",
              "\n",
              "         Active Std   Active Min    Idle Mean     Idle Std   Idle Max  \\\n",
              "24090    891052.766        50577  9936778.167  97967.05539   10000000   \n",
              "435189        0.000            0        0.000      0.00000          0   \n",
              "71011         0.000            0        0.000      0.00000          0   \n",
              "51096         0.000            0        0.000      0.00000          0   \n",
              "620976        0.000          846  6542676.000      0.00000    6542676   \n",
              "\n",
              "         Idle Min  \n",
              "24090     9800569  \n",
              "435189          0  \n",
              "71011           0  \n",
              "51096           0  \n",
              "620976    6542676  "
            ],
            "text/html": [
              "\n",
              "  <div id=\"df-07edce69-5f51-4a66-af2d-8060f21e9b0f\">\n",
              "    <div class=\"colab-df-container\">\n",
              "      <div>\n",
              "<style scoped>\n",
              "    .dataframe tbody tr th:only-of-type {\n",
              "        vertical-align: middle;\n",
              "    }\n",
              "\n",
              "    .dataframe tbody tr th {\n",
              "        vertical-align: top;\n",
              "    }\n",
              "\n",
              "    .dataframe thead th {\n",
              "        text-align: right;\n",
              "    }\n",
              "</style>\n",
              "<table border=\"1\" class=\"dataframe\">\n",
              "  <thead>\n",
              "    <tr style=\"text-align: right;\">\n",
              "      <th></th>\n",
              "      <th>Destination Port</th>\n",
              "      <th>Flow Duration</th>\n",
              "      <th>Total Fwd Packets</th>\n",
              "      <th>Total Backward Packets</th>\n",
              "      <th>Total Length of Fwd Packets</th>\n",
              "      <th>Total Length of Bwd Packets</th>\n",
              "      <th>Fwd Packet Length Max</th>\n",
              "      <th>Fwd Packet Length Min</th>\n",
              "      <th>Fwd Packet Length Mean</th>\n",
              "      <th>Fwd Packet Length Std</th>\n",
              "      <th>Bwd Packet Length Max</th>\n",
              "      <th>Bwd Packet Length Min</th>\n",
              "      <th>Bwd Packet Length Mean</th>\n",
              "      <th>Bwd Packet Length Std</th>\n",
              "      <th>Flow Bytes/s</th>\n",
              "      <th>Flow Packets/s</th>\n",
              "      <th>Flow IAT Mean</th>\n",
              "      <th>Flow IAT Std</th>\n",
              "      <th>Flow IAT Max</th>\n",
              "      <th>Flow IAT Min</th>\n",
              "      <th>Fwd IAT Total</th>\n",
              "      <th>Fwd IAT Mean</th>\n",
              "      <th>Fwd IAT Std</th>\n",
              "      <th>Fwd IAT Max</th>\n",
              "      <th>Fwd IAT Min</th>\n",
              "      <th>Bwd IAT Total</th>\n",
              "      <th>Bwd IAT Mean</th>\n",
              "      <th>Bwd IAT Std</th>\n",
              "      <th>Bwd IAT Max</th>\n",
              "      <th>Bwd IAT Min</th>\n",
              "      <th>Fwd PSH Flags</th>\n",
              "      <th>Bwd PSH Flags</th>\n",
              "      <th>Bwd URG Flags</th>\n",
              "      <th>Fwd Packets/s</th>\n",
              "      <th>Bwd Packets/s</th>\n",
              "      <th>Min Packet Length</th>\n",
              "      <th>Max Packet Length</th>\n",
              "      <th>Packet Length Mean</th>\n",
              "      <th>Packet Length Std</th>\n",
              "      <th>Packet Length Variance</th>\n",
              "      <th>FIN Flag Count</th>\n",
              "      <th>SYN Flag Count</th>\n",
              "      <th>RST Flag Count</th>\n",
              "      <th>PSH Flag Count</th>\n",
              "      <th>ACK Flag Count</th>\n",
              "      <th>URG Flag Count</th>\n",
              "      <th>CWE Flag Count</th>\n",
              "      <th>Down/Up Ratio</th>\n",
              "      <th>Average Packet Size</th>\n",
              "      <th>Avg Fwd Segment Size</th>\n",
              "      <th>Avg Bwd Segment Size</th>\n",
              "      <th>Fwd Header Length.1</th>\n",
              "      <th>Fwd Avg Bytes/Bulk</th>\n",
              "      <th>Fwd Avg Packets/Bulk</th>\n",
              "      <th>Fwd Avg Bulk Rate</th>\n",
              "      <th>Bwd Avg Bytes/Bulk</th>\n",
              "      <th>Bwd Avg Packets/Bulk</th>\n",
              "      <th>Bwd Avg Bulk Rate</th>\n",
              "      <th>Subflow Fwd Packets</th>\n",
              "      <th>Subflow Fwd Bytes</th>\n",
              "      <th>Subflow Bwd Packets</th>\n",
              "      <th>Init_Win_bytes_backward</th>\n",
              "      <th>Active Mean</th>\n",
              "      <th>Active Std</th>\n",
              "      <th>Active Min</th>\n",
              "      <th>Idle Mean</th>\n",
              "      <th>Idle Std</th>\n",
              "      <th>Idle Max</th>\n",
              "      <th>Idle Min</th>\n",
              "    </tr>\n",
              "  </thead>\n",
              "  <tbody>\n",
              "    <tr>\n",
              "      <th>24090</th>\n",
              "      <td>443</td>\n",
              "      <td>62107588</td>\n",
              "      <td>14</td>\n",
              "      <td>14</td>\n",
              "      <td>767</td>\n",
              "      <td>5587</td>\n",
              "      <td>385</td>\n",
              "      <td>0</td>\n",
              "      <td>54.785714</td>\n",
              "      <td>111.236531</td>\n",
              "      <td>1460</td>\n",
              "      <td>0</td>\n",
              "      <td>399.071429</td>\n",
              "      <td>603.817785</td>\n",
              "      <td>1.023063e+02</td>\n",
              "      <td>0.450831</td>\n",
              "      <td>2.300281e+06</td>\n",
              "      <td>4.166243e+06</td>\n",
              "      <td>10000000</td>\n",
              "      <td>29</td>\n",
              "      <td>62100000</td>\n",
              "      <td>4777506.769</td>\n",
              "      <td>5.021096e+06</td>\n",
              "      <td>10100000</td>\n",
              "      <td>50694</td>\n",
              "      <td>62100000</td>\n",
              "      <td>4773595.923</td>\n",
              "      <td>5061124.994</td>\n",
              "      <td>10100000</td>\n",
              "      <td>48</td>\n",
              "      <td>0</td>\n",
              "      <td>0</td>\n",
              "      <td>0</td>\n",
              "      <td>0.225415</td>\n",
              "      <td>0.225415</td>\n",
              "      <td>0</td>\n",
              "      <td>1460</td>\n",
              "      <td>219.103448</td>\n",
              "      <td>454.346182</td>\n",
              "      <td>2.064305e+05</td>\n",
              "      <td>0</td>\n",
              "      <td>0</td>\n",
              "      <td>0</td>\n",
              "      <td>1</td>\n",
              "      <td>0</td>\n",
              "      <td>0</td>\n",
              "      <td>0</td>\n",
              "      <td>1</td>\n",
              "      <td>226.928571</td>\n",
              "      <td>54.785714</td>\n",
              "      <td>399.071429</td>\n",
              "      <td>292</td>\n",
              "      <td>0</td>\n",
              "      <td>0</td>\n",
              "      <td>0</td>\n",
              "      <td>0</td>\n",
              "      <td>0</td>\n",
              "      <td>0</td>\n",
              "      <td>14</td>\n",
              "      <td>767</td>\n",
              "      <td>14</td>\n",
              "      <td>114</td>\n",
              "      <td>414457.1667</td>\n",
              "      <td>891052.766</td>\n",
              "      <td>50577</td>\n",
              "      <td>9936778.167</td>\n",
              "      <td>97967.05539</td>\n",
              "      <td>10000000</td>\n",
              "      <td>9800569</td>\n",
              "    </tr>\n",
              "    <tr>\n",
              "      <th>435189</th>\n",
              "      <td>53</td>\n",
              "      <td>230</td>\n",
              "      <td>2</td>\n",
              "      <td>2</td>\n",
              "      <td>68</td>\n",
              "      <td>380</td>\n",
              "      <td>34</td>\n",
              "      <td>34</td>\n",
              "      <td>34.000000</td>\n",
              "      <td>0.000000</td>\n",
              "      <td>190</td>\n",
              "      <td>190</td>\n",
              "      <td>190.000000</td>\n",
              "      <td>0.000000</td>\n",
              "      <td>1.947826e+06</td>\n",
              "      <td>17391.304348</td>\n",
              "      <td>7.666667e+01</td>\n",
              "      <td>9.047283e+01</td>\n",
              "      <td>178</td>\n",
              "      <td>4</td>\n",
              "      <td>4</td>\n",
              "      <td>4.000</td>\n",
              "      <td>0.000000e+00</td>\n",
              "      <td>4</td>\n",
              "      <td>4</td>\n",
              "      <td>48</td>\n",
              "      <td>48.000</td>\n",
              "      <td>0.000</td>\n",
              "      <td>48</td>\n",
              "      <td>48</td>\n",
              "      <td>0</td>\n",
              "      <td>0</td>\n",
              "      <td>0</td>\n",
              "      <td>8695.652174</td>\n",
              "      <td>8695.652174</td>\n",
              "      <td>34</td>\n",
              "      <td>190</td>\n",
              "      <td>96.400000</td>\n",
              "      <td>85.444719</td>\n",
              "      <td>7.300800e+03</td>\n",
              "      <td>0</td>\n",
              "      <td>0</td>\n",
              "      <td>0</td>\n",
              "      <td>0</td>\n",
              "      <td>0</td>\n",
              "      <td>0</td>\n",
              "      <td>0</td>\n",
              "      <td>1</td>\n",
              "      <td>120.500000</td>\n",
              "      <td>34.000000</td>\n",
              "      <td>190.000000</td>\n",
              "      <td>64</td>\n",
              "      <td>0</td>\n",
              "      <td>0</td>\n",
              "      <td>0</td>\n",
              "      <td>0</td>\n",
              "      <td>0</td>\n",
              "      <td>0</td>\n",
              "      <td>2</td>\n",
              "      <td>68</td>\n",
              "      <td>2</td>\n",
              "      <td>-1</td>\n",
              "      <td>0.0000</td>\n",
              "      <td>0.000</td>\n",
              "      <td>0</td>\n",
              "      <td>0.000</td>\n",
              "      <td>0.00000</td>\n",
              "      <td>0</td>\n",
              "      <td>0</td>\n",
              "    </tr>\n",
              "    <tr>\n",
              "      <th>71011</th>\n",
              "      <td>53</td>\n",
              "      <td>48610</td>\n",
              "      <td>1</td>\n",
              "      <td>1</td>\n",
              "      <td>48</td>\n",
              "      <td>224</td>\n",
              "      <td>48</td>\n",
              "      <td>48</td>\n",
              "      <td>48.000000</td>\n",
              "      <td>0.000000</td>\n",
              "      <td>224</td>\n",
              "      <td>224</td>\n",
              "      <td>224.000000</td>\n",
              "      <td>0.000000</td>\n",
              "      <td>5.595556e+03</td>\n",
              "      <td>41.143798</td>\n",
              "      <td>4.861000e+04</td>\n",
              "      <td>0.000000e+00</td>\n",
              "      <td>48610</td>\n",
              "      <td>48610</td>\n",
              "      <td>0</td>\n",
              "      <td>0.000</td>\n",
              "      <td>0.000000e+00</td>\n",
              "      <td>0</td>\n",
              "      <td>0</td>\n",
              "      <td>0</td>\n",
              "      <td>0.000</td>\n",
              "      <td>0.000</td>\n",
              "      <td>0</td>\n",
              "      <td>0</td>\n",
              "      <td>0</td>\n",
              "      <td>0</td>\n",
              "      <td>0</td>\n",
              "      <td>20.571899</td>\n",
              "      <td>20.571899</td>\n",
              "      <td>48</td>\n",
              "      <td>224</td>\n",
              "      <td>106.666667</td>\n",
              "      <td>101.613647</td>\n",
              "      <td>1.032533e+04</td>\n",
              "      <td>0</td>\n",
              "      <td>0</td>\n",
              "      <td>0</td>\n",
              "      <td>0</td>\n",
              "      <td>0</td>\n",
              "      <td>0</td>\n",
              "      <td>0</td>\n",
              "      <td>1</td>\n",
              "      <td>160.000000</td>\n",
              "      <td>48.000000</td>\n",
              "      <td>224.000000</td>\n",
              "      <td>20</td>\n",
              "      <td>0</td>\n",
              "      <td>0</td>\n",
              "      <td>0</td>\n",
              "      <td>0</td>\n",
              "      <td>0</td>\n",
              "      <td>0</td>\n",
              "      <td>1</td>\n",
              "      <td>48</td>\n",
              "      <td>1</td>\n",
              "      <td>-1</td>\n",
              "      <td>0.0000</td>\n",
              "      <td>0.000</td>\n",
              "      <td>0</td>\n",
              "      <td>0.000</td>\n",
              "      <td>0.00000</td>\n",
              "      <td>0</td>\n",
              "      <td>0</td>\n",
              "    </tr>\n",
              "    <tr>\n",
              "      <th>51096</th>\n",
              "      <td>34726</td>\n",
              "      <td>136645</td>\n",
              "      <td>3</td>\n",
              "      <td>0</td>\n",
              "      <td>1983</td>\n",
              "      <td>0</td>\n",
              "      <td>1983</td>\n",
              "      <td>0</td>\n",
              "      <td>661.000000</td>\n",
              "      <td>1144.885584</td>\n",
              "      <td>0</td>\n",
              "      <td>0</td>\n",
              "      <td>0.000000</td>\n",
              "      <td>0.000000</td>\n",
              "      <td>1.451206e+04</td>\n",
              "      <td>21.954700</td>\n",
              "      <td>6.832250e+04</td>\n",
              "      <td>9.661836e+04</td>\n",
              "      <td>136642</td>\n",
              "      <td>3</td>\n",
              "      <td>136645</td>\n",
              "      <td>68322.500</td>\n",
              "      <td>9.661836e+04</td>\n",
              "      <td>136642</td>\n",
              "      <td>3</td>\n",
              "      <td>0</td>\n",
              "      <td>0.000</td>\n",
              "      <td>0.000</td>\n",
              "      <td>0</td>\n",
              "      <td>0</td>\n",
              "      <td>0</td>\n",
              "      <td>0</td>\n",
              "      <td>0</td>\n",
              "      <td>21.954700</td>\n",
              "      <td>0.000000</td>\n",
              "      <td>0</td>\n",
              "      <td>1983</td>\n",
              "      <td>495.750000</td>\n",
              "      <td>991.500000</td>\n",
              "      <td>9.830722e+05</td>\n",
              "      <td>0</td>\n",
              "      <td>0</td>\n",
              "      <td>0</td>\n",
              "      <td>0</td>\n",
              "      <td>1</td>\n",
              "      <td>0</td>\n",
              "      <td>0</td>\n",
              "      <td>0</td>\n",
              "      <td>661.000000</td>\n",
              "      <td>661.000000</td>\n",
              "      <td>0.000000</td>\n",
              "      <td>96</td>\n",
              "      <td>0</td>\n",
              "      <td>0</td>\n",
              "      <td>0</td>\n",
              "      <td>0</td>\n",
              "      <td>0</td>\n",
              "      <td>0</td>\n",
              "      <td>3</td>\n",
              "      <td>1983</td>\n",
              "      <td>0</td>\n",
              "      <td>-1</td>\n",
              "      <td>0.0000</td>\n",
              "      <td>0.000</td>\n",
              "      <td>0</td>\n",
              "      <td>0.000</td>\n",
              "      <td>0.00000</td>\n",
              "      <td>0</td>\n",
              "      <td>0</td>\n",
              "    </tr>\n",
              "    <tr>\n",
              "      <th>620976</th>\n",
              "      <td>80</td>\n",
              "      <td>11547678</td>\n",
              "      <td>4</td>\n",
              "      <td>4</td>\n",
              "      <td>480</td>\n",
              "      <td>3525</td>\n",
              "      <td>480</td>\n",
              "      <td>0</td>\n",
              "      <td>120.000000</td>\n",
              "      <td>240.000000</td>\n",
              "      <td>3525</td>\n",
              "      <td>0</td>\n",
              "      <td>881.250000</td>\n",
              "      <td>1762.500000</td>\n",
              "      <td>3.468230e+02</td>\n",
              "      <td>0.692780</td>\n",
              "      <td>1.649668e+06</td>\n",
              "      <td>2.851453e+06</td>\n",
              "      <td>6542676</td>\n",
              "      <td>48</td>\n",
              "      <td>6544886</td>\n",
              "      <td>2181628.667</td>\n",
              "      <td>3.778001e+06</td>\n",
              "      <td>6544088</td>\n",
              "      <td>186</td>\n",
              "      <td>11500000</td>\n",
              "      <td>3849205.000</td>\n",
              "      <td>3420456.821</td>\n",
              "      <td>6542676</td>\n",
              "      <td>783</td>\n",
              "      <td>0</td>\n",
              "      <td>0</td>\n",
              "      <td>0</td>\n",
              "      <td>0.346390</td>\n",
              "      <td>0.346390</td>\n",
              "      <td>0</td>\n",
              "      <td>3525</td>\n",
              "      <td>445.000000</td>\n",
              "      <td>1165.858053</td>\n",
              "      <td>1.359225e+06</td>\n",
              "      <td>0</td>\n",
              "      <td>0</td>\n",
              "      <td>0</td>\n",
              "      <td>1</td>\n",
              "      <td>0</td>\n",
              "      <td>0</td>\n",
              "      <td>0</td>\n",
              "      <td>1</td>\n",
              "      <td>500.625000</td>\n",
              "      <td>120.000000</td>\n",
              "      <td>881.250000</td>\n",
              "      <td>136</td>\n",
              "      <td>0</td>\n",
              "      <td>0</td>\n",
              "      <td>0</td>\n",
              "      <td>0</td>\n",
              "      <td>0</td>\n",
              "      <td>0</td>\n",
              "      <td>4</td>\n",
              "      <td>480</td>\n",
              "      <td>4</td>\n",
              "      <td>235</td>\n",
              "      <td>846.0000</td>\n",
              "      <td>0.000</td>\n",
              "      <td>846</td>\n",
              "      <td>6542676.000</td>\n",
              "      <td>0.00000</td>\n",
              "      <td>6542676</td>\n",
              "      <td>6542676</td>\n",
              "    </tr>\n",
              "  </tbody>\n",
              "</table>\n",
              "</div>\n",
              "      <button class=\"colab-df-convert\" onclick=\"convertToInteractive('df-07edce69-5f51-4a66-af2d-8060f21e9b0f')\"\n",
              "              title=\"Convert this dataframe to an interactive table.\"\n",
              "              style=\"display:none;\">\n",
              "        \n",
              "  <svg xmlns=\"http://www.w3.org/2000/svg\" height=\"24px\"viewBox=\"0 0 24 24\"\n",
              "       width=\"24px\">\n",
              "    <path d=\"M0 0h24v24H0V0z\" fill=\"none\"/>\n",
              "    <path d=\"M18.56 5.44l.94 2.06.94-2.06 2.06-.94-2.06-.94-.94-2.06-.94 2.06-2.06.94zm-11 1L8.5 8.5l.94-2.06 2.06-.94-2.06-.94L8.5 2.5l-.94 2.06-2.06.94zm10 10l.94 2.06.94-2.06 2.06-.94-2.06-.94-.94-2.06-.94 2.06-2.06.94z\"/><path d=\"M17.41 7.96l-1.37-1.37c-.4-.4-.92-.59-1.43-.59-.52 0-1.04.2-1.43.59L10.3 9.45l-7.72 7.72c-.78.78-.78 2.05 0 2.83L4 21.41c.39.39.9.59 1.41.59.51 0 1.02-.2 1.41-.59l7.78-7.78 2.81-2.81c.8-.78.8-2.07 0-2.86zM5.41 20L4 18.59l7.72-7.72 1.47 1.35L5.41 20z\"/>\n",
              "  </svg>\n",
              "      </button>\n",
              "      \n",
              "  <style>\n",
              "    .colab-df-container {\n",
              "      display:flex;\n",
              "      flex-wrap:wrap;\n",
              "      gap: 12px;\n",
              "    }\n",
              "\n",
              "    .colab-df-convert {\n",
              "      background-color: #E8F0FE;\n",
              "      border: none;\n",
              "      border-radius: 50%;\n",
              "      cursor: pointer;\n",
              "      display: none;\n",
              "      fill: #1967D2;\n",
              "      height: 32px;\n",
              "      padding: 0 0 0 0;\n",
              "      width: 32px;\n",
              "    }\n",
              "\n",
              "    .colab-df-convert:hover {\n",
              "      background-color: #E2EBFA;\n",
              "      box-shadow: 0px 1px 2px rgba(60, 64, 67, 0.3), 0px 1px 3px 1px rgba(60, 64, 67, 0.15);\n",
              "      fill: #174EA6;\n",
              "    }\n",
              "\n",
              "    [theme=dark] .colab-df-convert {\n",
              "      background-color: #3B4455;\n",
              "      fill: #D2E3FC;\n",
              "    }\n",
              "\n",
              "    [theme=dark] .colab-df-convert:hover {\n",
              "      background-color: #434B5C;\n",
              "      box-shadow: 0px 1px 3px 1px rgba(0, 0, 0, 0.15);\n",
              "      filter: drop-shadow(0px 1px 2px rgba(0, 0, 0, 0.3));\n",
              "      fill: #FFFFFF;\n",
              "    }\n",
              "  </style>\n",
              "\n",
              "      <script>\n",
              "        const buttonEl =\n",
              "          document.querySelector('#df-07edce69-5f51-4a66-af2d-8060f21e9b0f button.colab-df-convert');\n",
              "        buttonEl.style.display =\n",
              "          google.colab.kernel.accessAllowed ? 'block' : 'none';\n",
              "\n",
              "        async function convertToInteractive(key) {\n",
              "          const element = document.querySelector('#df-07edce69-5f51-4a66-af2d-8060f21e9b0f');\n",
              "          const dataTable =\n",
              "            await google.colab.kernel.invokeFunction('convertToInteractive',\n",
              "                                                     [key], {});\n",
              "          if (!dataTable) return;\n",
              "\n",
              "          const docLinkHtml = 'Like what you see? Visit the ' +\n",
              "            '<a target=\"_blank\" href=https://colab.research.google.com/notebooks/data_table.ipynb>data table notebook</a>'\n",
              "            + ' to learn more about interactive tables.';\n",
              "          element.innerHTML = '';\n",
              "          dataTable['output_type'] = 'display_data';\n",
              "          await google.colab.output.renderOutput(dataTable, element);\n",
              "          const docLink = document.createElement('div');\n",
              "          docLink.innerHTML = docLinkHtml;\n",
              "          element.appendChild(docLink);\n",
              "        }\n",
              "      </script>\n",
              "    </div>\n",
              "  </div>\n",
              "  "
            ]
          },
          "metadata": {},
          "execution_count": 32
        }
      ],
      "source": [
        "x_train.head()"
      ]
    },
    {
      "cell_type": "code",
      "execution_count": null,
      "metadata": {
        "colab": {
          "base_uri": "https://localhost:8080/"
        },
        "id": "4x5qntKxWK8R",
        "outputId": "63d0da7b-60da-4b54-8b27-cb7cabd8bf26"
      },
      "outputs": [
        {
          "output_type": "execute_result",
          "data": {
            "text/plain": [
              "(1890598,)"
            ]
          },
          "metadata": {},
          "execution_count": 33
        }
      ],
      "source": [
        "y_train.shape"
      ]
    },
    {
      "cell_type": "code",
      "execution_count": null,
      "metadata": {
        "colab": {
          "base_uri": "https://localhost:8080/"
        },
        "id": "UFh_-OUgWPcb",
        "outputId": "6c211b55-7d61-4f81-ea81-518dcacda77a"
      },
      "outputs": [
        {
          "output_type": "execute_result",
          "data": {
            "text/plain": [
              "24090     0\n",
              "435189    0\n",
              "71011     0\n",
              "51096     0\n",
              "620976    1\n",
              "Name:  Label, dtype: int64"
            ]
          },
          "metadata": {},
          "execution_count": 34
        }
      ],
      "source": [
        "y_train.head()"
      ]
    },
    {
      "cell_type": "markdown",
      "metadata": {
        "id": "lEWVvqdOYEFx"
      },
      "source": [
        "\n",
        "\n"
      ]
    },
    {
      "cell_type": "code",
      "source": [
        "x_test.head()"
      ],
      "metadata": {
        "colab": {
          "base_uri": "https://localhost:8080/",
          "height": 322
        },
        "id": "EwAe3_RcPSat",
        "outputId": "29800f39-d84b-4cc1-84fc-226603d2ac61"
      },
      "execution_count": null,
      "outputs": [
        {
          "output_type": "execute_result",
          "data": {
            "text/plain": [
              "         Destination Port   Flow Duration   Total Fwd Packets  \\\n",
              "49865                 443          258554                  11   \n",
              "371483              42710              17                   2   \n",
              "57668                  80           23739                   1   \n",
              "440720                 53          116826                   2   \n",
              "137943                 80              41                   2   \n",
              "\n",
              "         Total Backward Packets  Total Length of Fwd Packets  \\\n",
              "49865                         6                          567   \n",
              "371483                        1                           31   \n",
              "57668                         1                            0   \n",
              "440720                        2                           88   \n",
              "137943                        0                           12   \n",
              "\n",
              "         Total Length of Bwd Packets   Fwd Packet Length Max  \\\n",
              "49865                           4169                     204   \n",
              "371483                             0                      31   \n",
              "57668                              0                       0   \n",
              "440720                           152                      44   \n",
              "137943                             0                       6   \n",
              "\n",
              "         Fwd Packet Length Min   Fwd Packet Length Mean  \\\n",
              "49865                        0                51.545455   \n",
              "371483                       0                15.500000   \n",
              "57668                        0                 0.000000   \n",
              "440720                      44                44.000000   \n",
              "137943                       6                 6.000000   \n",
              "\n",
              "         Fwd Packet Length Std  Bwd Packet Length Max   Bwd Packet Length Min  \\\n",
              "49865                71.319512                   2860                       0   \n",
              "371483               21.920310                      0                       0   \n",
              "57668                 0.000000                      0                       0   \n",
              "440720                0.000000                     76                      76   \n",
              "137943                0.000000                      0                       0   \n",
              "\n",
              "         Bwd Packet Length Mean   Bwd Packet Length Std  Flow Bytes/s  \\\n",
              "49865                694.833333             1116.263126  1.831726e+04   \n",
              "371483                 0.000000                0.000000  1.823529e+06   \n",
              "57668                  0.000000                0.000000  0.000000e+00   \n",
              "440720                76.000000                0.000000  2.054337e+03   \n",
              "137943                 0.000000                0.000000  2.926829e+05   \n",
              "\n",
              "         Flow Packets/s   Flow IAT Mean   Flow IAT Std   Flow IAT Max  \\\n",
              "49865         65.750288       16159.625   24390.942560          80244   \n",
              "371483    176470.588200           8.500       6.363961             13   \n",
              "57668         84.249547       23739.000       0.000000          23739   \n",
              "440720        34.238954       38942.000   67443.460370         116819   \n",
              "137943     48780.487800          41.000       0.000000             41   \n",
              "\n",
              "         Flow IAT Min  Fwd IAT Total   Fwd IAT Mean   Fwd IAT Std  \\\n",
              "49865               3         258554        25855.4   29120.73828   \n",
              "371483              4              4            4.0       0.00000   \n",
              "57668           23739              0            0.0       0.00000   \n",
              "440720              3              3            3.0       0.00000   \n",
              "137943             41             41           41.0       0.00000   \n",
              "\n",
              "         Fwd IAT Max   Fwd IAT Min  Bwd IAT Total   Bwd IAT Mean  \\\n",
              "49865          80244             3         141005        28201.0   \n",
              "371483             4             4              0            0.0   \n",
              "57668              0             0              0            0.0   \n",
              "440720             3             3              4            4.0   \n",
              "137943            41            41              0            0.0   \n",
              "\n",
              "         Bwd IAT Std   Bwd IAT Max   Bwd IAT Min  Fwd PSH Flags  \\\n",
              "49865    35856.61227         85641             4              0   \n",
              "371483       0.00000             0             0              1   \n",
              "57668        0.00000             0             0              0   \n",
              "440720       0.00000             4             4              0   \n",
              "137943       0.00000             0             0              0   \n",
              "\n",
              "         Bwd PSH Flags   Bwd URG Flags  Fwd Packets/s   Bwd Packets/s  \\\n",
              "49865                0               0      42.544304       23.205984   \n",
              "371483               0               0  117647.058800    58823.529410   \n",
              "57668                0               0      42.124774       42.124774   \n",
              "440720               0               0      17.119477       17.119477   \n",
              "137943               0               0   48780.487800        0.000000   \n",
              "\n",
              "         Min Packet Length   Max Packet Length   Packet Length Mean  \\\n",
              "49865                    0                2860           263.111111   \n",
              "371483                   0                  31            15.500000   \n",
              "57668                    0                   0             0.000000   \n",
              "440720                  44                  76            56.800000   \n",
              "137943                   6                   6             6.000000   \n",
              "\n",
              "         Packet Length Std   Packet Length Variance  FIN Flag Count  \\\n",
              "49865           684.319059            468292.575200               0   \n",
              "371483           17.897858               320.333333               0   \n",
              "57668             0.000000                 0.000000               0   \n",
              "440720           17.527122               307.200000               0   \n",
              "137943            0.000000                 0.000000               0   \n",
              "\n",
              "         SYN Flag Count   RST Flag Count   PSH Flag Count   ACK Flag Count  \\\n",
              "49865                 0                0                1                0   \n",
              "371483                1                0                0                1   \n",
              "57668                 0                0                0                1   \n",
              "440720                0                0                0                0   \n",
              "137943                0                0                0                1   \n",
              "\n",
              "         URG Flag Count   CWE Flag Count   Down/Up Ratio  \\\n",
              "49865                 0                0               0   \n",
              "371483                0                0               0   \n",
              "57668                 1                0               1   \n",
              "440720                0                0               1   \n",
              "137943                0                0               0   \n",
              "\n",
              "         Average Packet Size   Avg Fwd Segment Size   Avg Bwd Segment Size  \\\n",
              "49865             278.588235              51.545455             694.833333   \n",
              "371483             20.666667              15.500000               0.000000   \n",
              "57668               0.000000               0.000000               0.000000   \n",
              "440720             71.000000              44.000000              76.000000   \n",
              "137943              9.000000               6.000000               0.000000   \n",
              "\n",
              "         Fwd Header Length.1  Fwd Avg Bytes/Bulk   Fwd Avg Packets/Bulk  \\\n",
              "49865                    232                   0                      0   \n",
              "371483                    64                   0                      0   \n",
              "57668                     32                   0                      0   \n",
              "440720                    64                   0                      0   \n",
              "137943                    40                   0                      0   \n",
              "\n",
              "         Fwd Avg Bulk Rate   Bwd Avg Bytes/Bulk   Bwd Avg Packets/Bulk  \\\n",
              "49865                    0                    0                      0   \n",
              "371483                   0                    0                      0   \n",
              "57668                    0                    0                      0   \n",
              "440720                   0                    0                      0   \n",
              "137943                   0                    0                      0   \n",
              "\n",
              "        Bwd Avg Bulk Rate  Subflow Fwd Packets   Subflow Fwd Bytes  \\\n",
              "49865                   0                   11                 567   \n",
              "371483                  0                    2                  31   \n",
              "57668                   0                    1                   0   \n",
              "440720                  0                    2                  88   \n",
              "137943                  0                    2                  12   \n",
              "\n",
              "         Subflow Bwd Packets   Init_Win_bytes_backward  Active Mean  \\\n",
              "49865                      6                       343          0.0   \n",
              "371483                     1                         0          0.0   \n",
              "57668                      1                       972          0.0   \n",
              "440720                     2                        -1          0.0   \n",
              "137943                     0                        -1          0.0   \n",
              "\n",
              "         Active Std   Active Min  Idle Mean   Idle Std   Idle Max   Idle Min  \n",
              "49865           0.0            0        0.0        0.0          0          0  \n",
              "371483          0.0            0        0.0        0.0          0          0  \n",
              "57668           0.0            0        0.0        0.0          0          0  \n",
              "440720          0.0            0        0.0        0.0          0          0  \n",
              "137943          0.0            0        0.0        0.0          0          0  "
            ],
            "text/html": [
              "\n",
              "  <div id=\"df-5492549d-31f7-413a-8f90-38430eb481d7\">\n",
              "    <div class=\"colab-df-container\">\n",
              "      <div>\n",
              "<style scoped>\n",
              "    .dataframe tbody tr th:only-of-type {\n",
              "        vertical-align: middle;\n",
              "    }\n",
              "\n",
              "    .dataframe tbody tr th {\n",
              "        vertical-align: top;\n",
              "    }\n",
              "\n",
              "    .dataframe thead th {\n",
              "        text-align: right;\n",
              "    }\n",
              "</style>\n",
              "<table border=\"1\" class=\"dataframe\">\n",
              "  <thead>\n",
              "    <tr style=\"text-align: right;\">\n",
              "      <th></th>\n",
              "      <th>Destination Port</th>\n",
              "      <th>Flow Duration</th>\n",
              "      <th>Total Fwd Packets</th>\n",
              "      <th>Total Backward Packets</th>\n",
              "      <th>Total Length of Fwd Packets</th>\n",
              "      <th>Total Length of Bwd Packets</th>\n",
              "      <th>Fwd Packet Length Max</th>\n",
              "      <th>Fwd Packet Length Min</th>\n",
              "      <th>Fwd Packet Length Mean</th>\n",
              "      <th>Fwd Packet Length Std</th>\n",
              "      <th>Bwd Packet Length Max</th>\n",
              "      <th>Bwd Packet Length Min</th>\n",
              "      <th>Bwd Packet Length Mean</th>\n",
              "      <th>Bwd Packet Length Std</th>\n",
              "      <th>Flow Bytes/s</th>\n",
              "      <th>Flow Packets/s</th>\n",
              "      <th>Flow IAT Mean</th>\n",
              "      <th>Flow IAT Std</th>\n",
              "      <th>Flow IAT Max</th>\n",
              "      <th>Flow IAT Min</th>\n",
              "      <th>Fwd IAT Total</th>\n",
              "      <th>Fwd IAT Mean</th>\n",
              "      <th>Fwd IAT Std</th>\n",
              "      <th>Fwd IAT Max</th>\n",
              "      <th>Fwd IAT Min</th>\n",
              "      <th>Bwd IAT Total</th>\n",
              "      <th>Bwd IAT Mean</th>\n",
              "      <th>Bwd IAT Std</th>\n",
              "      <th>Bwd IAT Max</th>\n",
              "      <th>Bwd IAT Min</th>\n",
              "      <th>Fwd PSH Flags</th>\n",
              "      <th>Bwd PSH Flags</th>\n",
              "      <th>Bwd URG Flags</th>\n",
              "      <th>Fwd Packets/s</th>\n",
              "      <th>Bwd Packets/s</th>\n",
              "      <th>Min Packet Length</th>\n",
              "      <th>Max Packet Length</th>\n",
              "      <th>Packet Length Mean</th>\n",
              "      <th>Packet Length Std</th>\n",
              "      <th>Packet Length Variance</th>\n",
              "      <th>FIN Flag Count</th>\n",
              "      <th>SYN Flag Count</th>\n",
              "      <th>RST Flag Count</th>\n",
              "      <th>PSH Flag Count</th>\n",
              "      <th>ACK Flag Count</th>\n",
              "      <th>URG Flag Count</th>\n",
              "      <th>CWE Flag Count</th>\n",
              "      <th>Down/Up Ratio</th>\n",
              "      <th>Average Packet Size</th>\n",
              "      <th>Avg Fwd Segment Size</th>\n",
              "      <th>Avg Bwd Segment Size</th>\n",
              "      <th>Fwd Header Length.1</th>\n",
              "      <th>Fwd Avg Bytes/Bulk</th>\n",
              "      <th>Fwd Avg Packets/Bulk</th>\n",
              "      <th>Fwd Avg Bulk Rate</th>\n",
              "      <th>Bwd Avg Bytes/Bulk</th>\n",
              "      <th>Bwd Avg Packets/Bulk</th>\n",
              "      <th>Bwd Avg Bulk Rate</th>\n",
              "      <th>Subflow Fwd Packets</th>\n",
              "      <th>Subflow Fwd Bytes</th>\n",
              "      <th>Subflow Bwd Packets</th>\n",
              "      <th>Init_Win_bytes_backward</th>\n",
              "      <th>Active Mean</th>\n",
              "      <th>Active Std</th>\n",
              "      <th>Active Min</th>\n",
              "      <th>Idle Mean</th>\n",
              "      <th>Idle Std</th>\n",
              "      <th>Idle Max</th>\n",
              "      <th>Idle Min</th>\n",
              "    </tr>\n",
              "  </thead>\n",
              "  <tbody>\n",
              "    <tr>\n",
              "      <th>49865</th>\n",
              "      <td>443</td>\n",
              "      <td>258554</td>\n",
              "      <td>11</td>\n",
              "      <td>6</td>\n",
              "      <td>567</td>\n",
              "      <td>4169</td>\n",
              "      <td>204</td>\n",
              "      <td>0</td>\n",
              "      <td>51.545455</td>\n",
              "      <td>71.319512</td>\n",
              "      <td>2860</td>\n",
              "      <td>0</td>\n",
              "      <td>694.833333</td>\n",
              "      <td>1116.263126</td>\n",
              "      <td>1.831726e+04</td>\n",
              "      <td>65.750288</td>\n",
              "      <td>16159.625</td>\n",
              "      <td>24390.942560</td>\n",
              "      <td>80244</td>\n",
              "      <td>3</td>\n",
              "      <td>258554</td>\n",
              "      <td>25855.4</td>\n",
              "      <td>29120.73828</td>\n",
              "      <td>80244</td>\n",
              "      <td>3</td>\n",
              "      <td>141005</td>\n",
              "      <td>28201.0</td>\n",
              "      <td>35856.61227</td>\n",
              "      <td>85641</td>\n",
              "      <td>4</td>\n",
              "      <td>0</td>\n",
              "      <td>0</td>\n",
              "      <td>0</td>\n",
              "      <td>42.544304</td>\n",
              "      <td>23.205984</td>\n",
              "      <td>0</td>\n",
              "      <td>2860</td>\n",
              "      <td>263.111111</td>\n",
              "      <td>684.319059</td>\n",
              "      <td>468292.575200</td>\n",
              "      <td>0</td>\n",
              "      <td>0</td>\n",
              "      <td>0</td>\n",
              "      <td>1</td>\n",
              "      <td>0</td>\n",
              "      <td>0</td>\n",
              "      <td>0</td>\n",
              "      <td>0</td>\n",
              "      <td>278.588235</td>\n",
              "      <td>51.545455</td>\n",
              "      <td>694.833333</td>\n",
              "      <td>232</td>\n",
              "      <td>0</td>\n",
              "      <td>0</td>\n",
              "      <td>0</td>\n",
              "      <td>0</td>\n",
              "      <td>0</td>\n",
              "      <td>0</td>\n",
              "      <td>11</td>\n",
              "      <td>567</td>\n",
              "      <td>6</td>\n",
              "      <td>343</td>\n",
              "      <td>0.0</td>\n",
              "      <td>0.0</td>\n",
              "      <td>0</td>\n",
              "      <td>0.0</td>\n",
              "      <td>0.0</td>\n",
              "      <td>0</td>\n",
              "      <td>0</td>\n",
              "    </tr>\n",
              "    <tr>\n",
              "      <th>371483</th>\n",
              "      <td>42710</td>\n",
              "      <td>17</td>\n",
              "      <td>2</td>\n",
              "      <td>1</td>\n",
              "      <td>31</td>\n",
              "      <td>0</td>\n",
              "      <td>31</td>\n",
              "      <td>0</td>\n",
              "      <td>15.500000</td>\n",
              "      <td>21.920310</td>\n",
              "      <td>0</td>\n",
              "      <td>0</td>\n",
              "      <td>0.000000</td>\n",
              "      <td>0.000000</td>\n",
              "      <td>1.823529e+06</td>\n",
              "      <td>176470.588200</td>\n",
              "      <td>8.500</td>\n",
              "      <td>6.363961</td>\n",
              "      <td>13</td>\n",
              "      <td>4</td>\n",
              "      <td>4</td>\n",
              "      <td>4.0</td>\n",
              "      <td>0.00000</td>\n",
              "      <td>4</td>\n",
              "      <td>4</td>\n",
              "      <td>0</td>\n",
              "      <td>0.0</td>\n",
              "      <td>0.00000</td>\n",
              "      <td>0</td>\n",
              "      <td>0</td>\n",
              "      <td>1</td>\n",
              "      <td>0</td>\n",
              "      <td>0</td>\n",
              "      <td>117647.058800</td>\n",
              "      <td>58823.529410</td>\n",
              "      <td>0</td>\n",
              "      <td>31</td>\n",
              "      <td>15.500000</td>\n",
              "      <td>17.897858</td>\n",
              "      <td>320.333333</td>\n",
              "      <td>0</td>\n",
              "      <td>1</td>\n",
              "      <td>0</td>\n",
              "      <td>0</td>\n",
              "      <td>1</td>\n",
              "      <td>0</td>\n",
              "      <td>0</td>\n",
              "      <td>0</td>\n",
              "      <td>20.666667</td>\n",
              "      <td>15.500000</td>\n",
              "      <td>0.000000</td>\n",
              "      <td>64</td>\n",
              "      <td>0</td>\n",
              "      <td>0</td>\n",
              "      <td>0</td>\n",
              "      <td>0</td>\n",
              "      <td>0</td>\n",
              "      <td>0</td>\n",
              "      <td>2</td>\n",
              "      <td>31</td>\n",
              "      <td>1</td>\n",
              "      <td>0</td>\n",
              "      <td>0.0</td>\n",
              "      <td>0.0</td>\n",
              "      <td>0</td>\n",
              "      <td>0.0</td>\n",
              "      <td>0.0</td>\n",
              "      <td>0</td>\n",
              "      <td>0</td>\n",
              "    </tr>\n",
              "    <tr>\n",
              "      <th>57668</th>\n",
              "      <td>80</td>\n",
              "      <td>23739</td>\n",
              "      <td>1</td>\n",
              "      <td>1</td>\n",
              "      <td>0</td>\n",
              "      <td>0</td>\n",
              "      <td>0</td>\n",
              "      <td>0</td>\n",
              "      <td>0.000000</td>\n",
              "      <td>0.000000</td>\n",
              "      <td>0</td>\n",
              "      <td>0</td>\n",
              "      <td>0.000000</td>\n",
              "      <td>0.000000</td>\n",
              "      <td>0.000000e+00</td>\n",
              "      <td>84.249547</td>\n",
              "      <td>23739.000</td>\n",
              "      <td>0.000000</td>\n",
              "      <td>23739</td>\n",
              "      <td>23739</td>\n",
              "      <td>0</td>\n",
              "      <td>0.0</td>\n",
              "      <td>0.00000</td>\n",
              "      <td>0</td>\n",
              "      <td>0</td>\n",
              "      <td>0</td>\n",
              "      <td>0.0</td>\n",
              "      <td>0.00000</td>\n",
              "      <td>0</td>\n",
              "      <td>0</td>\n",
              "      <td>0</td>\n",
              "      <td>0</td>\n",
              "      <td>0</td>\n",
              "      <td>42.124774</td>\n",
              "      <td>42.124774</td>\n",
              "      <td>0</td>\n",
              "      <td>0</td>\n",
              "      <td>0.000000</td>\n",
              "      <td>0.000000</td>\n",
              "      <td>0.000000</td>\n",
              "      <td>0</td>\n",
              "      <td>0</td>\n",
              "      <td>0</td>\n",
              "      <td>0</td>\n",
              "      <td>1</td>\n",
              "      <td>1</td>\n",
              "      <td>0</td>\n",
              "      <td>1</td>\n",
              "      <td>0.000000</td>\n",
              "      <td>0.000000</td>\n",
              "      <td>0.000000</td>\n",
              "      <td>32</td>\n",
              "      <td>0</td>\n",
              "      <td>0</td>\n",
              "      <td>0</td>\n",
              "      <td>0</td>\n",
              "      <td>0</td>\n",
              "      <td>0</td>\n",
              "      <td>1</td>\n",
              "      <td>0</td>\n",
              "      <td>1</td>\n",
              "      <td>972</td>\n",
              "      <td>0.0</td>\n",
              "      <td>0.0</td>\n",
              "      <td>0</td>\n",
              "      <td>0.0</td>\n",
              "      <td>0.0</td>\n",
              "      <td>0</td>\n",
              "      <td>0</td>\n",
              "    </tr>\n",
              "    <tr>\n",
              "      <th>440720</th>\n",
              "      <td>53</td>\n",
              "      <td>116826</td>\n",
              "      <td>2</td>\n",
              "      <td>2</td>\n",
              "      <td>88</td>\n",
              "      <td>152</td>\n",
              "      <td>44</td>\n",
              "      <td>44</td>\n",
              "      <td>44.000000</td>\n",
              "      <td>0.000000</td>\n",
              "      <td>76</td>\n",
              "      <td>76</td>\n",
              "      <td>76.000000</td>\n",
              "      <td>0.000000</td>\n",
              "      <td>2.054337e+03</td>\n",
              "      <td>34.238954</td>\n",
              "      <td>38942.000</td>\n",
              "      <td>67443.460370</td>\n",
              "      <td>116819</td>\n",
              "      <td>3</td>\n",
              "      <td>3</td>\n",
              "      <td>3.0</td>\n",
              "      <td>0.00000</td>\n",
              "      <td>3</td>\n",
              "      <td>3</td>\n",
              "      <td>4</td>\n",
              "      <td>4.0</td>\n",
              "      <td>0.00000</td>\n",
              "      <td>4</td>\n",
              "      <td>4</td>\n",
              "      <td>0</td>\n",
              "      <td>0</td>\n",
              "      <td>0</td>\n",
              "      <td>17.119477</td>\n",
              "      <td>17.119477</td>\n",
              "      <td>44</td>\n",
              "      <td>76</td>\n",
              "      <td>56.800000</td>\n",
              "      <td>17.527122</td>\n",
              "      <td>307.200000</td>\n",
              "      <td>0</td>\n",
              "      <td>0</td>\n",
              "      <td>0</td>\n",
              "      <td>0</td>\n",
              "      <td>0</td>\n",
              "      <td>0</td>\n",
              "      <td>0</td>\n",
              "      <td>1</td>\n",
              "      <td>71.000000</td>\n",
              "      <td>44.000000</td>\n",
              "      <td>76.000000</td>\n",
              "      <td>64</td>\n",
              "      <td>0</td>\n",
              "      <td>0</td>\n",
              "      <td>0</td>\n",
              "      <td>0</td>\n",
              "      <td>0</td>\n",
              "      <td>0</td>\n",
              "      <td>2</td>\n",
              "      <td>88</td>\n",
              "      <td>2</td>\n",
              "      <td>-1</td>\n",
              "      <td>0.0</td>\n",
              "      <td>0.0</td>\n",
              "      <td>0</td>\n",
              "      <td>0.0</td>\n",
              "      <td>0.0</td>\n",
              "      <td>0</td>\n",
              "      <td>0</td>\n",
              "    </tr>\n",
              "    <tr>\n",
              "      <th>137943</th>\n",
              "      <td>80</td>\n",
              "      <td>41</td>\n",
              "      <td>2</td>\n",
              "      <td>0</td>\n",
              "      <td>12</td>\n",
              "      <td>0</td>\n",
              "      <td>6</td>\n",
              "      <td>6</td>\n",
              "      <td>6.000000</td>\n",
              "      <td>0.000000</td>\n",
              "      <td>0</td>\n",
              "      <td>0</td>\n",
              "      <td>0.000000</td>\n",
              "      <td>0.000000</td>\n",
              "      <td>2.926829e+05</td>\n",
              "      <td>48780.487800</td>\n",
              "      <td>41.000</td>\n",
              "      <td>0.000000</td>\n",
              "      <td>41</td>\n",
              "      <td>41</td>\n",
              "      <td>41</td>\n",
              "      <td>41.0</td>\n",
              "      <td>0.00000</td>\n",
              "      <td>41</td>\n",
              "      <td>41</td>\n",
              "      <td>0</td>\n",
              "      <td>0.0</td>\n",
              "      <td>0.00000</td>\n",
              "      <td>0</td>\n",
              "      <td>0</td>\n",
              "      <td>0</td>\n",
              "      <td>0</td>\n",
              "      <td>0</td>\n",
              "      <td>48780.487800</td>\n",
              "      <td>0.000000</td>\n",
              "      <td>6</td>\n",
              "      <td>6</td>\n",
              "      <td>6.000000</td>\n",
              "      <td>0.000000</td>\n",
              "      <td>0.000000</td>\n",
              "      <td>0</td>\n",
              "      <td>0</td>\n",
              "      <td>0</td>\n",
              "      <td>0</td>\n",
              "      <td>1</td>\n",
              "      <td>0</td>\n",
              "      <td>0</td>\n",
              "      <td>0</td>\n",
              "      <td>9.000000</td>\n",
              "      <td>6.000000</td>\n",
              "      <td>0.000000</td>\n",
              "      <td>40</td>\n",
              "      <td>0</td>\n",
              "      <td>0</td>\n",
              "      <td>0</td>\n",
              "      <td>0</td>\n",
              "      <td>0</td>\n",
              "      <td>0</td>\n",
              "      <td>2</td>\n",
              "      <td>12</td>\n",
              "      <td>0</td>\n",
              "      <td>-1</td>\n",
              "      <td>0.0</td>\n",
              "      <td>0.0</td>\n",
              "      <td>0</td>\n",
              "      <td>0.0</td>\n",
              "      <td>0.0</td>\n",
              "      <td>0</td>\n",
              "      <td>0</td>\n",
              "    </tr>\n",
              "  </tbody>\n",
              "</table>\n",
              "</div>\n",
              "      <button class=\"colab-df-convert\" onclick=\"convertToInteractive('df-5492549d-31f7-413a-8f90-38430eb481d7')\"\n",
              "              title=\"Convert this dataframe to an interactive table.\"\n",
              "              style=\"display:none;\">\n",
              "        \n",
              "  <svg xmlns=\"http://www.w3.org/2000/svg\" height=\"24px\"viewBox=\"0 0 24 24\"\n",
              "       width=\"24px\">\n",
              "    <path d=\"M0 0h24v24H0V0z\" fill=\"none\"/>\n",
              "    <path d=\"M18.56 5.44l.94 2.06.94-2.06 2.06-.94-2.06-.94-.94-2.06-.94 2.06-2.06.94zm-11 1L8.5 8.5l.94-2.06 2.06-.94-2.06-.94L8.5 2.5l-.94 2.06-2.06.94zm10 10l.94 2.06.94-2.06 2.06-.94-2.06-.94-.94-2.06-.94 2.06-2.06.94z\"/><path d=\"M17.41 7.96l-1.37-1.37c-.4-.4-.92-.59-1.43-.59-.52 0-1.04.2-1.43.59L10.3 9.45l-7.72 7.72c-.78.78-.78 2.05 0 2.83L4 21.41c.39.39.9.59 1.41.59.51 0 1.02-.2 1.41-.59l7.78-7.78 2.81-2.81c.8-.78.8-2.07 0-2.86zM5.41 20L4 18.59l7.72-7.72 1.47 1.35L5.41 20z\"/>\n",
              "  </svg>\n",
              "      </button>\n",
              "      \n",
              "  <style>\n",
              "    .colab-df-container {\n",
              "      display:flex;\n",
              "      flex-wrap:wrap;\n",
              "      gap: 12px;\n",
              "    }\n",
              "\n",
              "    .colab-df-convert {\n",
              "      background-color: #E8F0FE;\n",
              "      border: none;\n",
              "      border-radius: 50%;\n",
              "      cursor: pointer;\n",
              "      display: none;\n",
              "      fill: #1967D2;\n",
              "      height: 32px;\n",
              "      padding: 0 0 0 0;\n",
              "      width: 32px;\n",
              "    }\n",
              "\n",
              "    .colab-df-convert:hover {\n",
              "      background-color: #E2EBFA;\n",
              "      box-shadow: 0px 1px 2px rgba(60, 64, 67, 0.3), 0px 1px 3px 1px rgba(60, 64, 67, 0.15);\n",
              "      fill: #174EA6;\n",
              "    }\n",
              "\n",
              "    [theme=dark] .colab-df-convert {\n",
              "      background-color: #3B4455;\n",
              "      fill: #D2E3FC;\n",
              "    }\n",
              "\n",
              "    [theme=dark] .colab-df-convert:hover {\n",
              "      background-color: #434B5C;\n",
              "      box-shadow: 0px 1px 3px 1px rgba(0, 0, 0, 0.15);\n",
              "      filter: drop-shadow(0px 1px 2px rgba(0, 0, 0, 0.3));\n",
              "      fill: #FFFFFF;\n",
              "    }\n",
              "  </style>\n",
              "\n",
              "      <script>\n",
              "        const buttonEl =\n",
              "          document.querySelector('#df-5492549d-31f7-413a-8f90-38430eb481d7 button.colab-df-convert');\n",
              "        buttonEl.style.display =\n",
              "          google.colab.kernel.accessAllowed ? 'block' : 'none';\n",
              "\n",
              "        async function convertToInteractive(key) {\n",
              "          const element = document.querySelector('#df-5492549d-31f7-413a-8f90-38430eb481d7');\n",
              "          const dataTable =\n",
              "            await google.colab.kernel.invokeFunction('convertToInteractive',\n",
              "                                                     [key], {});\n",
              "          if (!dataTable) return;\n",
              "\n",
              "          const docLinkHtml = 'Like what you see? Visit the ' +\n",
              "            '<a target=\"_blank\" href=https://colab.research.google.com/notebooks/data_table.ipynb>data table notebook</a>'\n",
              "            + ' to learn more about interactive tables.';\n",
              "          element.innerHTML = '';\n",
              "          dataTable['output_type'] = 'display_data';\n",
              "          await google.colab.output.renderOutput(dataTable, element);\n",
              "          const docLink = document.createElement('div');\n",
              "          docLink.innerHTML = docLinkHtml;\n",
              "          element.appendChild(docLink);\n",
              "        }\n",
              "      </script>\n",
              "    </div>\n",
              "  </div>\n",
              "  "
            ]
          },
          "metadata": {},
          "execution_count": 81
        }
      ]
    },
    {
      "cell_type": "code",
      "source": [
        "from sklearn.ensemble import RandomForestRegressor\n",
        "from sklearn.model_selection import train_test_split\n",
        "import pandas as pd\n",
        "import numpy as np\n",
        "\n",
        "# Load\n",
        "\n",
        "\n",
        "# Create the random forest model\n",
        "rf_model = RandomForestRegressor(n_estimators=100, max_features='sqrt', random_state=42)\n",
        "\n",
        "# Fit the model on the training data\n",
        "rf_model.fit(x_train, y_train)\n",
        "\n",
        "# Predict on the testing data\n",
        "y_pred = rf_model.predict(x_test)\n"
      ],
      "metadata": {
        "colab": {
          "base_uri": "https://localhost:8080/",
          "height": 235
        },
        "id": "ZEVHNIZ1EAgF",
        "outputId": "d15cfb5d-fd52-4746-8774-888d6f932d4f"
      },
      "execution_count": null,
      "outputs": [
        {
          "output_type": "error",
          "ename": "NameError",
          "evalue": "ignored",
          "traceback": [
            "\u001b[0;31m---------------------------------------------------------------------------\u001b[0m",
            "\u001b[0;31mNameError\u001b[0m                                 Traceback (most recent call last)",
            "\u001b[0;32m<ipython-input-35-c9ce96c2a081>\u001b[0m in \u001b[0;36m<cell line: 20>\u001b[0;34m()\u001b[0m\n\u001b[1;32m     18\u001b[0m \u001b[0;31m# Calculate the mean squared error (MSE) and R-squared score\u001b[0m\u001b[0;34m\u001b[0m\u001b[0;34m\u001b[0m\u001b[0m\n\u001b[1;32m     19\u001b[0m \u001b[0mmse\u001b[0m \u001b[0;34m=\u001b[0m \u001b[0mnp\u001b[0m\u001b[0;34m.\u001b[0m\u001b[0mmean\u001b[0m\u001b[0;34m(\u001b[0m\u001b[0;34m(\u001b[0m\u001b[0my_pred\u001b[0m \u001b[0;34m-\u001b[0m \u001b[0my_test\u001b[0m\u001b[0;34m)\u001b[0m\u001b[0;34m**\u001b[0m\u001b[0;36m2\u001b[0m\u001b[0;34m)\u001b[0m\u001b[0;34m\u001b[0m\u001b[0;34m\u001b[0m\u001b[0m\n\u001b[0;32m---> 20\u001b[0;31m \u001b[0mr2\u001b[0m \u001b[0;34m=\u001b[0m \u001b[0mrf_model\u001b[0m\u001b[0;34m.\u001b[0m\u001b[0mscore\u001b[0m\u001b[0;34m(\u001b[0m\u001b[0mX_test\u001b[0m\u001b[0;34m,\u001b[0m \u001b[0my_test\u001b[0m\u001b[0;34m)\u001b[0m\u001b[0;34m\u001b[0m\u001b[0;34m\u001b[0m\u001b[0m\n\u001b[0m\u001b[1;32m     21\u001b[0m \u001b[0;34m\u001b[0m\u001b[0m\n\u001b[1;32m     22\u001b[0m \u001b[0;31m# Print the results\u001b[0m\u001b[0;34m\u001b[0m\u001b[0;34m\u001b[0m\u001b[0m\n",
            "\u001b[0;31mNameError\u001b[0m: name 'X_test' is not defined"
          ]
        }
      ]
    },
    {
      "cell_type": "code",
      "source": [
        "\n",
        "# Calculate the mean squared error (MSE) and R-squared score\n",
        "mse = np.mean((y_pred - y_test)**2)\n",
        "r2 = rf_model.score(x_test, y_test)\n",
        "\n",
        "# Print the results\n",
        "print(f'Mean squared error: {mse:.2f}')\n",
        "print(f'R-squared score: {r2:.2f}')"
      ],
      "metadata": {
        "colab": {
          "base_uri": "https://localhost:8080/"
        },
        "id": "eo8_pnmYJM_V",
        "outputId": "3acb2fc5-a84b-4b83-8a9f-a94fa907d3ec"
      },
      "execution_count": null,
      "outputs": [
        {
          "output_type": "stream",
          "name": "stdout",
          "text": [
            "Mean squared error: 0.00\n",
            "R-squared score: 0.99\n"
          ]
        }
      ]
    },
    {
      "cell_type": "code",
      "source": [
        "print(y_pred)\n",
        "y_predbin = (y_pred > 0.5).astype(int)\n",
        "print(y_predbin)"
      ],
      "metadata": {
        "colab": {
          "base_uri": "https://localhost:8080/"
        },
        "id": "DJnb_CdFJq1A",
        "outputId": "43a1d8b7-1fcd-4b5e-9a9d-f70f2903d9fe"
      },
      "execution_count": null,
      "outputs": [
        {
          "output_type": "stream",
          "name": "stdout",
          "text": [
            "[0. 0. 0. ... 0. 0. 1.]\n",
            "[0 0 0 ... 0 0 1]\n"
          ]
        }
      ]
    },
    {
      "cell_type": "code",
      "source": [
        "from sklearn.metrics import accuracy_score, precision_score, recall_score, f1_score, confusion_matrix\n",
        "\n",
        "# Compute the evaluation metrics\n",
        "accuracy = accuracy_score(y_test, y_predbin)\n",
        "precision = precision_score(y_test, y_predbin)\n",
        "recall = recall_score(y_test, y_predbin)\n",
        "f1 = f1_score(y_test,y_predbin)\n",
        "confusion_mat = confusion_matrix(y_test, y_predbin)\n",
        "\n",
        "# Print the results\n",
        "print('Accuracy:', accuracy)\n",
        "print('Precision:', precision)\n",
        "print('Recall:', recall)\n",
        "print('F1 score:', f1)\n",
        "print('Confusion matrix:\\n', confusion_mat)\n"
      ],
      "metadata": {
        "colab": {
          "base_uri": "https://localhost:8080/"
        },
        "id": "nZJh25YXEY93",
        "outputId": "d82b6b9d-5b26-4031-f159-9d7425578731"
      },
      "execution_count": null,
      "outputs": [
        {
          "output_type": "stream",
          "name": "stdout",
          "text": [
            "Accuracy: 0.9981386861313869\n",
            "Precision: 0.995258657183981\n",
            "Recall: 0.9937161857529305\n",
            "F1 score: 0.9944868233668447\n",
            "Confusion matrix:\n",
            " [[523232    504]\n",
            " [   669 105795]]\n"
          ]
        }
      ]
    },
    {
      "cell_type": "code",
      "source": [
        "import pandas as pd\n",
        "from tensorflow.keras.models import Sequential , load_model\n",
        "from tensorflow.keras.layers import LSTM,Dense\n",
        "from sklearn.preprocessing import StandardScaler\n",
        "test = pd.read_csv('/content/2023-04-26_Flow.csv')"
      ],
      "metadata": {
        "id": "eTCJJExtJR8c"
      },
      "execution_count": null,
      "outputs": []
    },
    {
      "cell_type": "code",
      "source": [
        "print(test.shape)"
      ],
      "metadata": {
        "colab": {
          "base_uri": "https://localhost:8080/"
        },
        "id": "kFSSEhLLKf2m",
        "outputId": "c589ae28-638f-4d79-d41c-709a04d0c4b3"
      },
      "execution_count": null,
      "outputs": [
        {
          "output_type": "stream",
          "name": "stdout",
          "text": [
            "(508, 84)\n"
          ]
        }
      ]
    },
    {
      "cell_type": "code",
      "source": [
        "ls=[4, 7, 8, 9, 10, 11, 12, 13, 14, 15, 16, 17, 18, 19, 20, 21, 22, 23, 24, 25, 26, 27, 28, 29, 30, 31, 32, 33, 34, 35, 36, 37, 38, 42, 43, 44, 45, 46, 47, 48, 49, 50, 51, 52, 53, 54, 55, 57, 58, 59, 60, 40, 61, 62, 63, 64, 65, 66, 67, 68, 69,72, 75, 76, 78, 79, 80, 81, 82]\n",
        "test = test.iloc[:,ls]\n",
        "print(test.shape)"
      ],
      "metadata": {
        "colab": {
          "base_uri": "https://localhost:8080/"
        },
        "id": "TQWAQ6KYOby2",
        "outputId": "21209bca-e99f-46b5-bff1-d0ceb5c49fab"
      },
      "execution_count": null,
      "outputs": [
        {
          "output_type": "stream",
          "name": "stdout",
          "text": [
            "(508, 69)\n"
          ]
        }
      ]
    },
    {
      "cell_type": "code",
      "source": [
        "col_dict = dict(zip(test.columns, traincols))"
      ],
      "metadata": {
        "id": "v628CA8CPF-U"
      },
      "execution_count": null,
      "outputs": []
    },
    {
      "cell_type": "code",
      "source": [
        "print(traincols)"
      ],
      "metadata": {
        "colab": {
          "base_uri": "https://localhost:8080/"
        },
        "id": "9yA8vvSedcsn",
        "outputId": "d60918f0-fbb6-439f-d161-39d08de327df"
      },
      "execution_count": null,
      "outputs": [
        {
          "output_type": "stream",
          "name": "stdout",
          "text": [
            "[' Destination Port', ' Flow Duration', ' Total Fwd Packets', ' Total Backward Packets', 'Total Length of Fwd Packets', ' Total Length of Bwd Packets', ' Fwd Packet Length Max', ' Fwd Packet Length Min', ' Fwd Packet Length Mean', ' Fwd Packet Length Std', 'Bwd Packet Length Max', ' Bwd Packet Length Min', ' Bwd Packet Length Mean', ' Bwd Packet Length Std', 'Flow Bytes/s', ' Flow Packets/s', ' Flow IAT Mean', ' Flow IAT Std', ' Flow IAT Max', ' Flow IAT Min', 'Fwd IAT Total', ' Fwd IAT Mean', ' Fwd IAT Std', ' Fwd IAT Max', ' Fwd IAT Min', 'Bwd IAT Total', ' Bwd IAT Mean', ' Bwd IAT Std', ' Bwd IAT Max', ' Bwd IAT Min', 'Fwd PSH Flags', ' Bwd PSH Flags', ' Bwd URG Flags', 'Fwd Packets/s', ' Bwd Packets/s', ' Min Packet Length', ' Max Packet Length', ' Packet Length Mean', ' Packet Length Std', ' Packet Length Variance', 'FIN Flag Count', ' SYN Flag Count', ' RST Flag Count', ' PSH Flag Count', ' ACK Flag Count', ' URG Flag Count', ' CWE Flag Count', ' Down/Up Ratio', ' Average Packet Size', ' Avg Fwd Segment Size', ' Avg Bwd Segment Size', ' Fwd Header Length.1', 'Fwd Avg Bytes/Bulk', ' Fwd Avg Packets/Bulk', ' Fwd Avg Bulk Rate', ' Bwd Avg Bytes/Bulk', ' Bwd Avg Packets/Bulk', 'Bwd Avg Bulk Rate', 'Subflow Fwd Packets', ' Subflow Fwd Bytes', ' Subflow Bwd Packets', ' Init_Win_bytes_backward', 'Active Mean', ' Active Std', ' Active Min', 'Idle Mean', ' Idle Std', ' Idle Max', ' Idle Min', ' Label']\n"
          ]
        }
      ]
    },
    {
      "cell_type": "code",
      "source": [
        "test = test.rename(columns = col_dict)\n",
        "test.head()"
      ],
      "metadata": {
        "colab": {
          "base_uri": "https://localhost:8080/",
          "height": 182
        },
        "id": "NUAANFikTAY6",
        "outputId": "67277157-0a0d-4b36-8654-97ea7218ab0a"
      },
      "execution_count": null,
      "outputs": [
        {
          "output_type": "error",
          "ename": "NameError",
          "evalue": "ignored",
          "traceback": [
            "\u001b[0;31m---------------------------------------------------------------------------\u001b[0m",
            "\u001b[0;31mNameError\u001b[0m                                 Traceback (most recent call last)",
            "\u001b[0;32m<ipython-input-1-d98e02055e94>\u001b[0m in \u001b[0;36m<cell line: 1>\u001b[0;34m()\u001b[0m\n\u001b[0;32m----> 1\u001b[0;31m \u001b[0mtest\u001b[0m \u001b[0;34m=\u001b[0m \u001b[0mtest\u001b[0m\u001b[0;34m.\u001b[0m\u001b[0mrename\u001b[0m\u001b[0;34m(\u001b[0m\u001b[0mcolumns\u001b[0m \u001b[0;34m=\u001b[0m \u001b[0mcol_dict\u001b[0m\u001b[0;34m)\u001b[0m\u001b[0;34m\u001b[0m\u001b[0;34m\u001b[0m\u001b[0m\n\u001b[0m\u001b[1;32m      2\u001b[0m \u001b[0mtest\u001b[0m\u001b[0;34m.\u001b[0m\u001b[0mhead\u001b[0m\u001b[0;34m(\u001b[0m\u001b[0;34m)\u001b[0m\u001b[0;34m\u001b[0m\u001b[0;34m\u001b[0m\u001b[0m\n",
            "\u001b[0;31mNameError\u001b[0m: name 'test' is not defined"
          ]
        }
      ]
    },
    {
      "cell_type": "code",
      "source": [
        "test = test[~test.isin([np.nan, np.inf, -np.inf]).any(1)]\n",
        "test.shape"
      ],
      "metadata": {
        "colab": {
          "base_uri": "https://localhost:8080/"
        },
        "id": "N5PE6SIiUCMW",
        "outputId": "c5658378-f93c-4d57-f35b-3879a3fef97d"
      },
      "execution_count": null,
      "outputs": [
        {
          "output_type": "stream",
          "name": "stderr",
          "text": [
            "<ipython-input-163-23d84cb98e37>:1: FutureWarning: In a future version of pandas all arguments of DataFrame.any and Series.any will be keyword-only.\n",
            "  test = test[~test.isin([np.nan, np.inf, -np.inf]).any(1)]\n"
          ]
        },
        {
          "output_type": "execute_result",
          "data": {
            "text/plain": [
              "(502, 69)"
            ]
          },
          "metadata": {},
          "execution_count": 163
        }
      ]
    },
    {
      "cell_type": "code",
      "source": [
        "test_pred = rf_model.predict(test)\n",
        "test_pred = (test_pred > 0.5).astype(int)"
      ],
      "metadata": {
        "id": "MyygHsfULY2t"
      },
      "execution_count": null,
      "outputs": []
    },
    {
      "cell_type": "code",
      "source": [
        "test_pred = list(test_pred)\n",
        "# print(test_label)\n",
        "print(test_pred)"
      ],
      "metadata": {
        "colab": {
          "base_uri": "https://localhost:8080/"
        },
        "id": "wUr4VqLxMhTy",
        "outputId": "e9163ca9-c9f7-4a9a-cfcf-4a221638b643"
      },
      "execution_count": null,
      "outputs": [
        {
          "output_type": "stream",
          "name": "stdout",
          "text": [
            "[0, 0, 0, 0, 0, 0, 0, 0, 0, 0, 0, 0, 0, 0, 0, 0, 0, 0, 0, 0, 0, 0, 0, 0, 0, 0, 0, 0, 0, 0, 0, 0, 0, 0, 0, 0, 0, 0, 0, 0, 0, 0, 0, 0, 0, 0, 0, 0, 0, 0, 0, 0, 0, 0, 0, 0, 0, 0, 0, 0, 0, 0, 0, 0, 0, 0, 0, 0, 0, 0, 0, 0, 0, 0, 0, 0, 0, 0, 0, 0, 0, 0, 0, 0, 0, 0, 0, 0, 0, 0, 0, 0, 0, 0, 0, 0, 0, 0, 0, 0, 0, 0, 0, 0, 0, 0, 0, 0, 0, 0, 0, 0, 0, 0, 0, 0, 0, 0, 0, 0, 0, 0, 0, 0, 0, 0, 0, 0, 0, 0, 0, 0, 0, 0, 0, 0, 0, 0, 0, 0, 0, 0, 0, 0, 0, 0, 0, 0, 0, 0, 0, 0, 0, 0, 0, 0, 0, 0, 0, 0, 0, 0, 0, 0, 0, 0, 0, 0, 0, 0, 0, 0, 0, 0, 0, 0, 0, 0, 0, 0, 0, 0, 0, 0, 0, 0, 0, 0, 0, 0, 0, 0, 0, 0, 0, 0, 0, 0, 0, 0, 0, 0, 0, 0, 0, 0, 0, 0, 0, 0, 0, 0, 0, 0, 0, 0, 0, 0, 0, 0, 0, 0, 0, 0, 0, 0, 0, 0, 0, 0, 0, 0, 0, 0, 0, 0, 0, 0, 0, 0, 0, 0, 0, 0, 0, 0, 0, 0, 0, 0, 0, 0, 0, 0, 0, 0, 0, 0, 0, 0, 0, 0, 0, 0, 0, 0, 0, 0, 0, 0, 0, 0, 0, 0, 0, 0, 0, 0, 0, 0, 0, 0, 0, 0, 0, 0, 0, 0, 0, 0, 0, 0, 0, 0, 0, 0, 0, 0, 0, 0, 0, 0, 0, 0, 0, 0, 0, 0, 0, 0, 0, 0, 0, 0, 0, 0, 0, 0, 0, 0, 0, 0, 0, 0, 0, 0, 0, 0, 0, 0, 0, 0, 0, 0, 0, 0, 0, 0, 0, 0, 0, 0, 0, 0, 0, 0, 0, 0, 0, 0, 0, 0, 0, 0, 0, 0, 0, 0, 0, 0, 0, 0, 0, 0, 0, 0, 0, 0, 0, 0, 0, 0, 0, 0, 0, 0, 0, 0, 0, 0, 0, 0, 0, 0, 0, 0, 0, 0, 0, 0, 0, 0, 0, 0, 0, 0, 0, 0, 0, 0, 0, 0, 0, 0, 0, 0, 0, 0, 0, 0, 0, 0, 0, 0, 0, 0, 0, 0, 0, 0, 0, 0, 0, 0, 0, 0, 0, 0, 0, 0, 0, 0, 0, 0, 0, 0, 0, 0, 0, 0, 0, 0, 0, 0, 0, 0, 0, 0, 0, 0, 0, 0, 0, 0, 0, 0, 0, 0, 0, 0, 0, 0, 0, 0, 0, 0, 0, 0, 0, 0, 0, 0, 0, 0, 0, 0, 0, 0, 0, 0, 0, 0, 0, 0, 0, 0, 0, 0, 0, 0, 0, 0, 0, 0, 0, 0, 0, 0, 0, 0, 0, 0]\n"
          ]
        }
      ]
    },
    {
      "cell_type": "code",
      "source": [
        "test_pred = list(test_pred)"
      ],
      "metadata": {
        "id": "nI7IaD72NLdh"
      },
      "execution_count": null,
      "outputs": []
    },
    {
      "cell_type": "code",
      "source": [
        "if test_pred.count(0) > test_pred.count(1):\n",
        "  print(\"Safe\")\n",
        "else:\n",
        "  print(\"Malicious\")"
      ],
      "metadata": {
        "colab": {
          "base_uri": "https://localhost:8080/"
        },
        "id": "3uSlAPfOL__-",
        "outputId": "34c752b0-843c-4f89-c129-306391a71d57"
      },
      "execution_count": null,
      "outputs": [
        {
          "output_type": "stream",
          "name": "stdout",
          "text": [
            "Safe\n"
          ]
        }
      ]
    },
    {
      "cell_type": "code",
      "source": [
        "print(test_pred.count(0))\n",
        "print(test_pred.count(1))"
      ],
      "metadata": {
        "colab": {
          "base_uri": "https://localhost:8080/"
        },
        "id": "Kz8U6kSSNF9E",
        "outputId": "8035ea39-9640-420f-c7b3-bd0a69102e9c"
      },
      "execution_count": null,
      "outputs": [
        {
          "output_type": "stream",
          "name": "stdout",
          "text": [
            "502\n",
            "0\n"
          ]
        }
      ]
    },
    {
      "cell_type": "code",
      "source": [
        "import pickle\n",
        "with open(\"RandomForestmodel\", 'wb') as file:\n",
        "    pickle.dump(rf_model, file)"
      ],
      "metadata": {
        "id": "lxo8JxmkNcpS"
      },
      "execution_count": null,
      "outputs": []
    },
    {
      "cell_type": "code",
      "source": [
        "file.close()"
      ],
      "metadata": {
        "id": "NWOkaIQEVjM5"
      },
      "execution_count": null,
      "outputs": []
    },
    {
      "cell_type": "code",
      "source": [
        "# import pickle\n",
        "\n",
        "# Define the path and filename of the saved model\n",
        "filename = 'RandomForestmodel'\n",
        "\n",
        "# Load the model from the pickle file\n",
        "with open(filename, 'rb') as file:\n",
        "    loaded_model = pickle.load(file)\n",
        "\n",
        "# Now you can use the loaded_model to make predictions on new data\n"
      ],
      "metadata": {
        "id": "ttgO5idqVnZ5"
      },
      "execution_count": null,
      "outputs": []
    },
    {
      "cell_type": "code",
      "source": [
        "test_pred = loaded_model.predict(test)"
      ],
      "metadata": {
        "id": "Qlg6qx6TWiuV"
      },
      "execution_count": null,
      "outputs": []
    },
    {
      "cell_type": "code",
      "source": [
        "print(test_pred)"
      ],
      "metadata": {
        "colab": {
          "base_uri": "https://localhost:8080/"
        },
        "id": "4iAUgEoFWpIf",
        "outputId": "bb272f4d-e154-4df1-ae40-cf42d4ed733a"
      },
      "execution_count": null,
      "outputs": [
        {
          "output_type": "stream",
          "name": "stdout",
          "text": [
            "[0.1  0.05 0.08 0.   0.1  0.   0.   0.   0.   0.   0.12 0.02 0.02 0.02\n",
            " 0.   0.16 0.04 0.01 0.   0.   0.08 0.09 0.01 0.   0.22 0.05 0.22 0.\n",
            " 0.01 0.01 0.01 0.01 0.01 0.   0.   0.   0.01 0.01 0.1  0.12 0.05 0.\n",
            " 0.   0.   0.   0.21 0.   0.   0.   0.01 0.01 0.01 0.01 0.   0.01 0.\n",
            " 0.14 0.01 0.01 0.   0.04 0.11 0.   0.   0.   0.05 0.   0.   0.   0.\n",
            " 0.   0.24 0.24 0.09 0.   0.07 0.03 0.01 0.01 0.01 0.01 0.   0.   0.\n",
            " 0.01 0.01 0.12 0.   0.12 0.04 0.   0.07 0.   0.   0.04 0.   0.14 0.\n",
            " 0.   0.   0.   0.01 0.01 0.01 0.   0.   0.   0.01 0.   0.   0.03 0.\n",
            " 0.14 0.13 0.   0.   0.   0.07 0.1  0.01 0.07 0.05 0.06 0.03 0.02 0.08\n",
            " 0.   0.03 0.07 0.14 0.02 0.02 0.08 0.1  0.02 0.16 0.02 0.   0.01 0.01\n",
            " 0.01 0.01 0.   0.01 0.   0.01 0.   0.12 0.   0.16 0.04 0.   0.01 0.03\n",
            " 0.01 0.02 0.15 0.02 0.11 0.13 0.15 0.13 0.13 0.   0.   0.   0.1  0.09\n",
            " 0.18 0.02 0.15 0.08 0.   0.02 0.   0.02 0.   0.19 0.04 0.04 0.06 0.01\n",
            " 0.14 0.01 0.04 0.02 0.   0.   0.   0.   0.2  0.16 0.03 0.03 0.02 0.02\n",
            " 0.05 0.   0.12 0.   0.13 0.01 0.   0.   0.02 0.   0.   0.   0.   0.\n",
            " 0.   0.   0.   0.   0.   0.   0.   0.1  0.11 0.02 0.14 0.   0.   0.04\n",
            " 0.02 0.02 0.   0.19 0.05 0.   0.11 0.1  0.01 0.   0.14 0.01 0.2  0.19\n",
            " 0.02 0.19 0.07 0.08 0.03 0.15 0.2  0.2  0.01 0.1  0.   0.   0.   0.1\n",
            " 0.11 0.03 0.04 0.08 0.03 0.07 0.02 0.01 0.01 0.01 0.   0.   0.   0.01\n",
            " 0.01 0.   0.   0.14 0.13 0.05 0.   0.06 0.12 0.01 0.04 0.11 0.   0.\n",
            " 0.06 0.19 0.15 0.06 0.02 0.01 0.   0.01 0.   0.   0.02 0.02 0.   0.17\n",
            " 0.   0.   0.09 0.07 0.   0.06 0.07 0.01 0.01 0.01 0.01 0.01 0.   0.\n",
            " 0.   0.   0.   0.01 0.07 0.08 0.07 0.   0.   0.   0.01 0.   0.   0.\n",
            " 0.01 0.02 0.06 0.03 0.03 0.14 0.02 0.01 0.18 0.   0.12 0.02 0.09 0.06\n",
            " 0.1  0.07 0.02 0.07 0.04 0.22 0.03 0.03 0.08 0.14 0.08 0.14 0.15 0.18\n",
            " 0.05 0.01 0.   0.08 0.02 0.02 0.1  0.03 0.   0.03 0.03 0.13 0.   0.06\n",
            " 0.   0.13 0.1  0.02 0.   0.   0.2  0.   0.05 0.09 0.09 0.   0.13 0.1\n",
            " 0.02 0.02 0.07 0.05 0.01 0.1  0.11 0.12 0.01 0.11 0.   0.03 0.02 0.\n",
            " 0.01 0.   0.04 0.14 0.   0.12 0.17 0.   0.01 0.07 0.08 0.02 0.   0.02\n",
            " 0.14 0.   0.14 0.01 0.16 0.   0.05 0.   0.   0.   0.   0.02 0.06 0.\n",
            " 0.09 0.   0.16 0.   0.   0.   0.   0.19 0.   0.02 0.01 0.14 0.04 0.05\n",
            " 0.02 0.   0.01 0.01 0.   0.   0.21 0.   0.21 0.2  0.02 0.08 0.05 0.\n",
            " 0.04 0.   0.04 0.12 0.09 0.   0.   0.16 0.19 0.19 0.03 0.   0.   0.\n",
            " 0.05 0.05 0.08 0.07 0.05 0.03 0.03 0.   0.02 0.   0.15 0.08 0.03 0.03\n",
            " 0.   0.   0.01 0.01 0.19 0.02 0.   0.1  0.09 0.01 0.24 0.02 0.   0.\n",
            " 0.   0.   0.07 0.03 0.   0.   0.04 0.01 0.02 0.   0.05 0.  ]\n"
          ]
        }
      ]
    },
    {
      "cell_type": "code",
      "source": [],
      "metadata": {
        "id": "6mROtdjqWsCz"
      },
      "execution_count": null,
      "outputs": []
    }
  ],
  "metadata": {
    "colab": {
      "provenance": []
    },
    "kernelspec": {
      "display_name": "Python 3",
      "name": "python3"
    },
    "language_info": {
      "name": "python"
    }
  },
  "nbformat": 4,
  "nbformat_minor": 0
}